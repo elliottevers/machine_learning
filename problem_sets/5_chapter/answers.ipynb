{
 "cells": [
  {
   "cell_type": "markdown",
   "metadata": {},
   "source": [
    "# Chapter 5"
   ]
  },
  {
   "cell_type": "markdown",
   "metadata": {},
   "source": [
    "Problems 1, 2, 3, 4, 5, 6, 8"
   ]
  },
  {
   "cell_type": "markdown",
   "metadata": {},
   "source": [
    "## Problem 1"
   ]
  },
  {
   "cell_type": "markdown",
   "metadata": {},
   "source": [
    "![alttext](img/p1.png)"
   ]
  },
  {
   "cell_type": "markdown",
   "metadata": {},
   "source": [
    "**state relevant property of variance**"
   ]
  },
  {
   "cell_type": "markdown",
   "metadata": {},
   "source": [
    "Recall $$ \\operatorname { Var } ( a X + b Y ) = a ^ { 2 } \\operatorname { Var } ( X ) + b ^ { 2 } \\operatorname { Var } ( Y ) + 2 a b \\operatorname { Cov } ( X , Y )$$.\n",
    "\n",
    "**substitute problem specific variables (note the degree of the variable of interest to optimize)**\n",
    "\n",
    "So, $$ \\operatorname { Var } ( \\alpha X + ( 1 - \\alpha ) Y ) = \\\\ \\alpha ^ { 2 } \\operatorname { Var } ( X ) + ( 1 - \\alpha ) ^ { 2 } \\operatorname { Var } ( Y ) + 2 \\alpha ( 1 - \\alpha ) \\operatorname { Cov } ( X , Y ) = \\\\ \\sigma _ { X } ^ { 2 } \\alpha ^ { 2 } + \\sigma _ { Y } ^ { 2 } ( 1 - \\alpha ) ^ { 2 } + 2 \\sigma _ { X Y } \\left( - \\alpha ^ { 2 } + \\alpha \\right) = \\\\ f(\\alpha)\\\\ $$.\n",
    "\n",
    "**simplify until 0 is on one side of expression, and we have expression of $n \\times x^{n-1}$ where x is variable of interest to maximize and n is degree of the variable of interest to optimize)**\n",
    "\n",
    "We have the following critical point,\n",
    "$$\n",
    "f'(\\alpha) = 0 \\implies \\\\\n",
    "2 \\sigma _ { X } ^ { 2 } \\alpha + 2 \\sigma _ { Y } ^ { 2 } ( 1 - \\alpha ) ( - 1 ) + 2 \\sigma _ { X Y } ( - 2 \\alpha + 1 ) = 0 \\implies \\dots \\\\\n",
    "$$\n",
    "\n",
    "**target proposition**\n",
    "\n",
    "$$\n",
    "\\alpha = \\frac { \\sigma _ { Y } ^ { 2 } - \\sigma _ { X Y } } { \\sigma _ { X } ^ { 2 } + \\sigma _ { Y } ^ { 2 } - 2 \\sigma _ { X Y } }\n",
    "$$."
   ]
  },
  {
   "cell_type": "markdown",
   "metadata": {},
   "source": [
    "To see that it's a minimum, note that $ f' ( \\alpha + \\epsilon) > 0, f' ( \\alpha - \\epsilon) < 0$."
   ]
  },
  {
   "cell_type": "markdown",
   "metadata": {},
   "source": [
    "## Problem 2"
   ]
  },
  {
   "cell_type": "markdown",
   "metadata": {},
   "source": [
    "![alttext](img/p2.png)\n",
    "![alttext](img/p2b.png)"
   ]
  },
  {
   "cell_type": "markdown",
   "metadata": {},
   "source": [
    "#### (a-c)"
   ]
  },
  {
   "cell_type": "markdown",
   "metadata": {},
   "source": [
    "Note that\n",
    "$$P(\\text{for a single random draw, } x_i \\in \\text{ bootstrap sample}) = ( \\frac{1}{n} )$$.\n",
    "What is the intuition for this?  If our population is 1, the bootstrap sample will *have* to have that data point.\n",
    "\n",
    "\n",
    "\n",
    "**simplify and interpret**\n",
    "\n",
    "Negating that, we have\n",
    "$$P(\\text{for a single random draw, } x_i \\notin \\text{ bootstrap sample}) = ( 1 - \\frac{1}{n} )$$.\n",
    "\n",
    "Since taking a bootstrap sample amounts to taking $n$ *independent* draws...\n",
    "\n",
    "**target proposition**\n",
    "\n",
    "$P(x_i \\notin \\text{ bootstrap sample}) = ( 1 - \\frac{1}{n} ^ { n })$"
   ]
  },
  {
   "cell_type": "markdown",
   "metadata": {},
   "source": [
    "#### (d)"
   ]
  },
  {
   "cell_type": "markdown",
   "metadata": {},
   "source": [
    "$1 - ( 4 / 5 ) ^ { 5 } = 67.2 \\%$"
   ]
  },
  {
   "cell_type": "markdown",
   "metadata": {},
   "source": [
    "#### (e)\n",
    "$1 - ( 99 / 100 ) ^ { 100 } = 63.4 \\%$"
   ]
  },
  {
   "cell_type": "markdown",
   "metadata": {},
   "source": [
    "#### (f)\n",
    "$1 - ( 1 - 1 / 10000 ) ^ { 10000 } = 63.2 \\%$"
   ]
  },
  {
   "cell_type": "markdown",
   "metadata": {},
   "source": [
    "## Problem 3"
   ]
  },
  {
   "cell_type": "markdown",
   "metadata": {},
   "source": [
    "![alttext](img/p3.png)"
   ]
  },
  {
   "cell_type": "markdown",
   "metadata": {},
   "source": [
    "#### (a)\n",
    "In k-fold cross-validation, the original sample is randomly partitioned into k equal sized subsamples. Of the k subsamples, a single subsample is retained as the validation data for testing the model, and the remaining k − 1 subsamples are used as training data. The cross-validation process is then repeated k times, with each of the k subsamples used exactly once as the validation data. The k results can then be averaged to produce a single estimation.\n",
    "- (k-1) * k models trained\n",
    "- k validation errors\n",
    "- test error is estimated by averaging the k validation errors"
   ]
  },
  {
   "cell_type": "markdown",
   "metadata": {},
   "source": [
    "#### (b)\n",
    "- (i) large variation in test error\n",
    "- (ii) has higher variance than cross validation"
   ]
  },
  {
   "cell_type": "markdown",
   "metadata": {},
   "source": [
    "## Problem 4"
   ]
  },
  {
   "cell_type": "markdown",
   "metadata": {},
   "source": [
    "![alttext](img/p4.png)"
   ]
  },
  {
   "cell_type": "markdown",
   "metadata": {},
   "source": [
    "Use bootstrapping"
   ]
  },
  {
   "cell_type": "markdown",
   "metadata": {},
   "source": [
    "## Problem 5"
   ]
  },
  {
   "cell_type": "markdown",
   "metadata": {},
   "source": [
    "![alttext](img/p5.png)\n",
    "![alttext](img/p5b.png)"
   ]
  },
  {
   "cell_type": "markdown",
   "metadata": {},
   "source": [
    "#### (a)"
   ]
  },
  {
   "cell_type": "code",
   "execution_count": 1,
   "metadata": {},
   "outputs": [
    {
     "data": {
      "text/html": [
       "<table>\n",
       "<thead><tr><th scope=col>default</th><th scope=col>student</th><th scope=col>balance</th><th scope=col>income</th></tr></thead>\n",
       "<tbody>\n",
       "\t<tr><td>No       </td><td>No       </td><td> 729.5265</td><td>44361.625</td></tr>\n",
       "\t<tr><td>No       </td><td>Yes      </td><td> 817.1804</td><td>12106.135</td></tr>\n",
       "\t<tr><td>No       </td><td>No       </td><td>1073.5492</td><td>31767.139</td></tr>\n",
       "\t<tr><td>No       </td><td>No       </td><td> 529.2506</td><td>35704.494</td></tr>\n",
       "\t<tr><td>No       </td><td>No       </td><td> 785.6559</td><td>38463.496</td></tr>\n",
       "\t<tr><td>No       </td><td>Yes      </td><td> 919.5885</td><td> 7491.559</td></tr>\n",
       "</tbody>\n",
       "</table>\n"
      ],
      "text/latex": [
       "\\begin{tabular}{r|llll}\n",
       " default & student & balance & income\\\\\n",
       "\\hline\n",
       "\t No        & No        &  729.5265 & 44361.625\\\\\n",
       "\t No        & Yes       &  817.1804 & 12106.135\\\\\n",
       "\t No        & No        & 1073.5492 & 31767.139\\\\\n",
       "\t No        & No        &  529.2506 & 35704.494\\\\\n",
       "\t No        & No        &  785.6559 & 38463.496\\\\\n",
       "\t No        & Yes       &  919.5885 &  7491.559\\\\\n",
       "\\end{tabular}\n"
      ],
      "text/markdown": [
       "\n",
       "default | student | balance | income | \n",
       "|---|---|---|---|---|---|\n",
       "| No        | No        |  729.5265 | 44361.625 | \n",
       "| No        | Yes       |  817.1804 | 12106.135 | \n",
       "| No        | No        | 1073.5492 | 31767.139 | \n",
       "| No        | No        |  529.2506 | 35704.494 | \n",
       "| No        | No        |  785.6559 | 38463.496 | \n",
       "| No        | Yes       |  919.5885 |  7491.559 | \n",
       "\n",
       "\n"
      ],
      "text/plain": [
       "  default student balance   income   \n",
       "1 No      No       729.5265 44361.625\n",
       "2 No      Yes      817.1804 12106.135\n",
       "3 No      No      1073.5492 31767.139\n",
       "4 No      No       529.2506 35704.494\n",
       "5 No      No       785.6559 38463.496\n",
       "6 No      Yes      919.5885  7491.559"
      ]
     },
     "metadata": {},
     "output_type": "display_data"
    }
   ],
   "source": [
    "library(ISLR)\n",
    "data <- Default\n",
    "head(data)"
   ]
  },
  {
   "cell_type": "code",
   "execution_count": 4,
   "metadata": {},
   "outputs": [],
   "source": [
    "set.seed(9001)\n",
    "model = glm(\n",
    "    default ~ income + balance,\n",
    "    data = data,\n",
    "    family = binomial\n",
    ")"
   ]
  },
  {
   "cell_type": "markdown",
   "metadata": {},
   "source": [
    "#### (b - c)"
   ]
  },
  {
   "cell_type": "code",
   "execution_count": 27,
   "metadata": {},
   "outputs": [],
   "source": [
    "train = sample(\n",
    "    dim(data)[1], # dataset to sample from\n",
    "    dim(data)[1]/2 # number of sample to draw\n",
    ")"
   ]
  },
  {
   "cell_type": "code",
   "execution_count": 29,
   "metadata": {},
   "outputs": [],
   "source": [
    "model = glm(\n",
    "    default ~ income + balance,\n",
    "    data = data,\n",
    "    family = binomial, \n",
    "    subset = train\n",
    ")"
   ]
  },
  {
   "cell_type": "code",
   "execution_count": 31,
   "metadata": {},
   "outputs": [],
   "source": [
    "# initialize predictions\n",
    "y_hat = rep(\"No\", dim(data)[1]/2) # 50% validation set"
   ]
  },
  {
   "cell_type": "code",
   "execution_count": 35,
   "metadata": {},
   "outputs": [],
   "source": [
    "probs = predict(\n",
    "    model,\n",
    "    data[-train, ],\n",
    "    type = \"response\"\n",
    ")"
   ]
  },
  {
   "cell_type": "code",
   "execution_count": 36,
   "metadata": {},
   "outputs": [],
   "source": [
    "y_hat[probs > 0.5] = \"Yes\""
   ]
  },
  {
   "cell_type": "code",
   "execution_count": 39,
   "metadata": {},
   "outputs": [
    {
     "data": {
      "text/html": [
       "0.0258"
      ],
      "text/latex": [
       "0.0258"
      ],
      "text/markdown": [
       "0.0258"
      ],
      "text/plain": [
       "[1] 0.0258"
      ]
     },
     "metadata": {},
     "output_type": "display_data"
    }
   ],
   "source": [
    "mean(\n",
    "    y_hat != data[-train, ]$default\n",
    ")"
   ]
  },
  {
   "cell_type": "markdown",
   "metadata": {},
   "source": [
    "#### (d)"
   ]
  },
  {
   "cell_type": "code",
   "execution_count": 50,
   "metadata": {},
   "outputs": [
    {
     "data": {
      "text/html": [
       "0.0274"
      ],
      "text/latex": [
       "0.0274"
      ],
      "text/markdown": [
       "0.0274"
      ],
      "text/plain": [
       "[1] 0.0274"
      ]
     },
     "metadata": {},
     "output_type": "display_data"
    }
   ],
   "source": [
    "train = sample(\n",
    "    dim(data)[1], # dataset to sample from\n",
    "    dim(data)[1]/2 # number of sample to draw\n",
    ")\n",
    "\n",
    "model = glm(\n",
    "    default ~ income + balance + student,\n",
    "    data = data,\n",
    "    family = binomial, \n",
    "    subset = train\n",
    ")\n",
    "\n",
    "y_hat = rep(\"No\", dim(data)[1]/2)\n",
    "\n",
    "probs = predict(\n",
    "    model,\n",
    "    data[-train, ],\n",
    "    type = \"response\"\n",
    ")\n",
    "\n",
    "y_hat[probs > 0.5] = \"Yes\"\n",
    "\n",
    "mean(\n",
    "    y_hat != data[-train, ]$default\n",
    ")"
   ]
  },
  {
   "cell_type": "markdown",
   "metadata": {},
   "source": [
    "Has generally higher test error"
   ]
  },
  {
   "cell_type": "markdown",
   "metadata": {},
   "source": [
    "## Problem 6"
   ]
  },
  {
   "cell_type": "markdown",
   "metadata": {},
   "source": [
    "![alttext](img/p6.png)\n",
    "![alttext](img/p6b.png)"
   ]
  },
  {
   "cell_type": "code",
   "execution_count": 51,
   "metadata": {},
   "outputs": [],
   "source": [
    "data <- Default"
   ]
  },
  {
   "cell_type": "markdown",
   "metadata": {},
   "source": [
    "#### (a)"
   ]
  },
  {
   "cell_type": "code",
   "execution_count": 52,
   "metadata": {},
   "outputs": [
    {
     "data": {
      "text/plain": [
       "\n",
       "Call:\n",
       "glm(formula = default ~ income + balance, family = binomial, \n",
       "    data = data)\n",
       "\n",
       "Deviance Residuals: \n",
       "    Min       1Q   Median       3Q      Max  \n",
       "-2.4725  -0.1444  -0.0574  -0.0211   3.7245  \n",
       "\n",
       "Coefficients:\n",
       "              Estimate Std. Error z value Pr(>|z|)    \n",
       "(Intercept) -1.154e+01  4.348e-01 -26.545  < 2e-16 ***\n",
       "income       2.081e-05  4.985e-06   4.174 2.99e-05 ***\n",
       "balance      5.647e-03  2.274e-04  24.836  < 2e-16 ***\n",
       "---\n",
       "Signif. codes:  0 ‘***’ 0.001 ‘**’ 0.01 ‘*’ 0.05 ‘.’ 0.1 ‘ ’ 1\n",
       "\n",
       "(Dispersion parameter for binomial family taken to be 1)\n",
       "\n",
       "    Null deviance: 2920.6  on 9999  degrees of freedom\n",
       "Residual deviance: 1579.0  on 9997  degrees of freedom\n",
       "AIC: 1585\n",
       "\n",
       "Number of Fisher Scoring iterations: 8\n"
      ]
     },
     "metadata": {},
     "output_type": "display_data"
    }
   ],
   "source": [
    "set.seed(9001)\n",
    "model = glm(\n",
    "    default ~ income + balance,\n",
    "    data = data,\n",
    "    family = binomial\n",
    ")\n",
    "summary(model)"
   ]
  },
  {
   "cell_type": "markdown",
   "metadata": {},
   "source": [
    "#### (b)"
   ]
  },
  {
   "cell_type": "code",
   "execution_count": 53,
   "metadata": {},
   "outputs": [],
   "source": [
    "boot.fn = function(data, index) {\n",
    "    return(\n",
    "        coef(\n",
    "            glm(default ~ income + balance, \n",
    "            data = data,\n",
    "            family = binomial,\n",
    "            subset = index\n",
    "           )\n",
    "        )\n",
    "    )\n",
    "}"
   ]
  },
  {
   "cell_type": "markdown",
   "metadata": {},
   "source": [
    "#### (c)"
   ]
  },
  {
   "cell_type": "code",
   "execution_count": 54,
   "metadata": {},
   "outputs": [
    {
     "data": {
      "text/plain": [
       "\n",
       "ORDINARY NONPARAMETRIC BOOTSTRAP\n",
       "\n",
       "\n",
       "Call:\n",
       "boot(data = data, statistic = boot.fn, R = 50)\n",
       "\n",
       "\n",
       "Bootstrap Statistics :\n",
       "         original        bias     std. error\n",
       "t1* -1.154047e+01 -9.107318e-02 5.383948e-01\n",
       "t2*  2.080898e-05  3.916651e-07 5.569570e-06\n",
       "t3*  5.647103e-03  5.288946e-05 2.712006e-04"
      ]
     },
     "metadata": {},
     "output_type": "display_data"
    }
   ],
   "source": [
    "library(boot)\n",
    "boot(\n",
    "    data,\n",
    "    boot.fn,\n",
    "    50\n",
    ")"
   ]
  },
  {
   "cell_type": "markdown",
   "metadata": {},
   "source": [
    "## Problem 8"
   ]
  },
  {
   "cell_type": "markdown",
   "metadata": {},
   "source": [
    "#### (a)"
   ]
  },
  {
   "cell_type": "code",
   "execution_count": 84,
   "metadata": {},
   "outputs": [],
   "source": [
    "set.seed(9002)\n",
    "y=rnorm(100)\n",
    "x=rnorm(100)\n",
    "y=x-2*x^2+rnorm(100)"
   ]
  },
  {
   "cell_type": "markdown",
   "metadata": {},
   "source": [
    "n = 100 samples, p = 2 predictors (x, x^2)"
   ]
  },
  {
   "cell_type": "markdown",
   "metadata": {},
   "source": [
    "#### (b)"
   ]
  },
  {
   "cell_type": "code",
   "execution_count": 85,
   "metadata": {},
   "outputs": [
    {
     "data": {
      "image/png": "[encoded data removed]",
      "text/plain": [
       "plot without title"
      ]
     },
     "metadata": {},
     "output_type": "display_data"
    }
   ],
   "source": [
    "plot(x, y)"
   ]
  },
  {
   "cell_type": "markdown",
   "metadata": {},
   "source": [
    "#### (c)"
   ]
  },
  {
   "cell_type": "code",
   "execution_count": 94,
   "metadata": {},
   "outputs": [
    {
     "data": {
      "text/html": [
       "<ol class=list-inline>\n",
       "\t<li>11.6166986450049</li>\n",
       "\t<li>11.610987076868</li>\n",
       "</ol>\n"
      ],
      "text/latex": [
       "\\begin{enumerate*}\n",
       "\\item 11.6166986450049\n",
       "\\item 11.610987076868\n",
       "\\end{enumerate*}\n"
      ],
      "text/markdown": [
       "1. 11.6166986450049\n",
       "2. 11.610987076868\n",
       "\n",
       "\n"
      ],
      "text/plain": [
       "[1] 11.61670 11.61099"
      ]
     },
     "metadata": {},
     "output_type": "display_data"
    },
    {
     "data": {
      "text/plain": [
       "\n",
       "Call:\n",
       "glm(formula = y ~ x, data = data)\n",
       "\n",
       "Deviance Residuals: \n",
       "    Min       1Q   Median       3Q      Max  \n",
       "-13.224   -1.325    1.110    2.131    3.725  \n",
       "\n",
       "Coefficients:\n",
       "            Estimate Std. Error t value Pr(>|t|)    \n",
       "(Intercept)  -2.1902     0.3282  -6.674  1.5e-09 ***\n",
       "x             0.5778     0.3080   1.876   0.0637 .  \n",
       "---\n",
       "Signif. codes:  0 ‘***’ 0.001 ‘**’ 0.01 ‘*’ 0.05 ‘.’ 0.1 ‘ ’ 1\n",
       "\n",
       "(Dispersion parameter for gaussian family taken to be 10.72476)\n",
       "\n",
       "    Null deviance: 1088.8  on 99  degrees of freedom\n",
       "Residual deviance: 1051.0  on 98  degrees of freedom\n",
       "AIC: 525.02\n",
       "\n",
       "Number of Fisher Scoring iterations: 2\n"
      ]
     },
     "metadata": {},
     "output_type": "display_data"
    }
   ],
   "source": [
    "data = data.frame(x, y)\n",
    "\n",
    "model = glm(\n",
    "    y ~ x,\n",
    "    data = data\n",
    ")\n",
    "cv.glm(\n",
    "    data,\n",
    "    model\n",
    ")$delta\n",
    "\n",
    "summary(model)"
   ]
  },
  {
   "cell_type": "code",
   "execution_count": 95,
   "metadata": {},
   "outputs": [
    {
     "data": {
      "text/html": [
       "<ol class=list-inline>\n",
       "\t<li>0.929751838175281</li>\n",
       "\t<li>0.92943392595603</li>\n",
       "</ol>\n"
      ],
      "text/latex": [
       "\\begin{enumerate*}\n",
       "\\item 0.929751838175281\n",
       "\\item 0.92943392595603\n",
       "\\end{enumerate*}\n"
      ],
      "text/markdown": [
       "1. 0.929751838175281\n",
       "2. 0.92943392595603\n",
       "\n",
       "\n"
      ],
      "text/plain": [
       "[1] 0.9297518 0.9294339"
      ]
     },
     "metadata": {},
     "output_type": "display_data"
    },
    {
     "data": {
      "text/plain": [
       "\n",
       "Call:\n",
       "glm(formula = y ~ poly(x, 2), data = data)\n",
       "\n",
       "Deviance Residuals: \n",
       "    Min       1Q   Median       3Q      Max  \n",
       "-2.6251  -0.6165   0.1017   0.5825   3.1148  \n",
       "\n",
       "Coefficients:\n",
       "             Estimate Std. Error t value Pr(>|t|)    \n",
       "(Intercept)  -2.15072    0.09462 -22.729  < 2e-16 ***\n",
       "poly(x, 2)1   6.14295    0.94623   6.492 3.61e-09 ***\n",
       "poly(x, 2)2 -31.05120    0.94623 -32.816  < 2e-16 ***\n",
       "---\n",
       "Signif. codes:  0 ‘***’ 0.001 ‘**’ 0.01 ‘*’ 0.05 ‘.’ 0.1 ‘ ’ 1\n",
       "\n",
       "(Dispersion parameter for gaussian family taken to be 0.8953582)\n",
       "\n",
       "    Null deviance: 1088.76  on 99  degrees of freedom\n",
       "Residual deviance:   86.85  on 97  degrees of freedom\n",
       "AIC: 277.69\n",
       "\n",
       "Number of Fisher Scoring iterations: 2\n"
      ]
     },
     "metadata": {},
     "output_type": "display_data"
    }
   ],
   "source": [
    "data = data.frame(x, y)\n",
    "\n",
    "model = glm(\n",
    "    y ~ poly(x, 2),\n",
    "    data = data\n",
    ")\n",
    "cv.glm(\n",
    "    data,\n",
    "    model\n",
    ")$delta\n",
    "\n",
    "summary(model)"
   ]
  },
  {
   "cell_type": "code",
   "execution_count": 96,
   "metadata": {},
   "outputs": [
    {
     "data": {
      "text/html": [
       "<ol class=list-inline>\n",
       "\t<li>0.950310100456538</li>\n",
       "\t<li>0.949875626395892</li>\n",
       "</ol>\n"
      ],
      "text/latex": [
       "\\begin{enumerate*}\n",
       "\\item 0.950310100456538\n",
       "\\item 0.949875626395892\n",
       "\\end{enumerate*}\n"
      ],
      "text/markdown": [
       "1. 0.950310100456538\n",
       "2. 0.949875626395892\n",
       "\n",
       "\n"
      ],
      "text/plain": [
       "[1] 0.9503101 0.9498756"
      ]
     },
     "metadata": {},
     "output_type": "display_data"
    },
    {
     "data": {
      "text/plain": [
       "\n",
       "Call:\n",
       "glm(formula = y ~ poly(x, 3), data = data)\n",
       "\n",
       "Deviance Residuals: \n",
       "    Min       1Q   Median       3Q      Max  \n",
       "-2.6241  -0.6218   0.1032   0.5731   3.1006  \n",
       "\n",
       "Coefficients:\n",
       "             Estimate Std. Error t value Pr(>|t|)    \n",
       "(Intercept)  -2.15072    0.09511 -22.613  < 2e-16 ***\n",
       "poly(x, 3)1   6.14295    0.95109   6.459 4.34e-09 ***\n",
       "poly(x, 3)2 -31.05120    0.95109 -32.648  < 2e-16 ***\n",
       "poly(x, 3)3  -0.10063    0.95109  -0.106    0.916    \n",
       "---\n",
       "Signif. codes:  0 ‘***’ 0.001 ‘**’ 0.01 ‘*’ 0.05 ‘.’ 0.1 ‘ ’ 1\n",
       "\n",
       "(Dispersion parameter for gaussian family taken to be 0.9045793)\n",
       "\n",
       "    Null deviance: 1088.76  on 99  degrees of freedom\n",
       "Residual deviance:   86.84  on 96  degrees of freedom\n",
       "AIC: 279.68\n",
       "\n",
       "Number of Fisher Scoring iterations: 2\n"
      ]
     },
     "metadata": {},
     "output_type": "display_data"
    }
   ],
   "source": [
    "data = data.frame(x, y)\n",
    "\n",
    "model = glm(\n",
    "    y ~ poly(x, 3),\n",
    "    data = data\n",
    ")\n",
    "cv.glm(\n",
    "    data,\n",
    "    model\n",
    ")$delta\n",
    "\n",
    "summary(model)"
   ]
  },
  {
   "cell_type": "code",
   "execution_count": 97,
   "metadata": {},
   "outputs": [
    {
     "data": {
      "text/html": [
       "<ol class=list-inline>\n",
       "\t<li>0.966244097442515</li>\n",
       "\t<li>0.965717835280669</li>\n",
       "</ol>\n"
      ],
      "text/latex": [
       "\\begin{enumerate*}\n",
       "\\item 0.966244097442515\n",
       "\\item 0.965717835280669\n",
       "\\end{enumerate*}\n"
      ],
      "text/markdown": [
       "1. 0.966244097442515\n",
       "2. 0.965717835280669\n",
       "\n",
       "\n"
      ],
      "text/plain": [
       "[1] 0.9662441 0.9657178"
      ]
     },
     "metadata": {},
     "output_type": "display_data"
    },
    {
     "data": {
      "text/plain": [
       "\n",
       "Call:\n",
       "glm(formula = y ~ poly(x, 4), data = data)\n",
       "\n",
       "Deviance Residuals: \n",
       "    Min       1Q   Median       3Q      Max  \n",
       "-2.6375  -0.6287   0.1025   0.5802   3.0969  \n",
       "\n",
       "Coefficients:\n",
       "             Estimate Std. Error t value Pr(>|t|)    \n",
       "(Intercept)  -2.15072    0.09559 -22.499  < 2e-16 ***\n",
       "poly(x, 4)1   6.14295    0.95594   6.426 5.19e-09 ***\n",
       "poly(x, 4)2 -31.05120    0.95594 -32.483  < 2e-16 ***\n",
       "poly(x, 4)3  -0.10063    0.95594  -0.105    0.916    \n",
       "poly(x, 4)4   0.16515    0.95594   0.173    0.863    \n",
       "---\n",
       "Signif. codes:  0 ‘***’ 0.001 ‘**’ 0.01 ‘*’ 0.05 ‘.’ 0.1 ‘ ’ 1\n",
       "\n",
       "(Dispersion parameter for gaussian family taken to be 0.9138141)\n",
       "\n",
       "    Null deviance: 1088.763  on 99  degrees of freedom\n",
       "Residual deviance:   86.812  on 95  degrees of freedom\n",
       "AIC: 281.65\n",
       "\n",
       "Number of Fisher Scoring iterations: 2\n"
      ]
     },
     "metadata": {},
     "output_type": "display_data"
    }
   ],
   "source": [
    "data = data.frame(x, y)\n",
    "\n",
    "model = glm(\n",
    "    y ~ poly(x, 4),\n",
    "    data = data\n",
    ")\n",
    "cv.glm(\n",
    "    data,\n",
    "    model\n",
    ")$delta\n",
    "\n",
    "summary(model)"
   ]
  },
  {
   "cell_type": "markdown",
   "metadata": {},
   "source": [
    "#### (d)"
   ]
  },
  {
   "cell_type": "code",
   "execution_count": 98,
   "metadata": {},
   "outputs": [
    {
     "data": {
      "text/html": [
       "<ol class=list-inline>\n",
       "\t<li>11.6166986450049</li>\n",
       "\t<li>11.610987076868</li>\n",
       "</ol>\n"
      ],
      "text/latex": [
       "\\begin{enumerate*}\n",
       "\\item 11.6166986450049\n",
       "\\item 11.610987076868\n",
       "\\end{enumerate*}\n"
      ],
      "text/markdown": [
       "1. 11.6166986450049\n",
       "2. 11.610987076868\n",
       "\n",
       "\n"
      ],
      "text/plain": [
       "[1] 11.61670 11.61099"
      ]
     },
     "metadata": {},
     "output_type": "display_data"
    },
    {
     "data": {
      "text/html": [
       "<ol class=list-inline>\n",
       "\t<li>0.929751838175281</li>\n",
       "\t<li>0.929433925956029</li>\n",
       "</ol>\n"
      ],
      "text/latex": [
       "\\begin{enumerate*}\n",
       "\\item 0.929751838175281\n",
       "\\item 0.929433925956029\n",
       "\\end{enumerate*}\n"
      ],
      "text/markdown": [
       "1. 0.929751838175281\n",
       "2. 0.929433925956029\n",
       "\n",
       "\n"
      ],
      "text/plain": [
       "[1] 0.9297518 0.9294339"
      ]
     },
     "metadata": {},
     "output_type": "display_data"
    },
    {
     "data": {
      "text/html": [
       "<ol class=list-inline>\n",
       "\t<li>0.950310100456538</li>\n",
       "\t<li>0.949875626395891</li>\n",
       "</ol>\n"
      ],
      "text/latex": [
       "\\begin{enumerate*}\n",
       "\\item 0.950310100456538\n",
       "\\item 0.949875626395891\n",
       "\\end{enumerate*}\n"
      ],
      "text/markdown": [
       "1. 0.950310100456538\n",
       "2. 0.949875626395891\n",
       "\n",
       "\n"
      ],
      "text/plain": [
       "[1] 0.9503101 0.9498756"
      ]
     },
     "metadata": {},
     "output_type": "display_data"
    },
    {
     "data": {
      "text/html": [
       "<ol class=list-inline>\n",
       "\t<li>0.966244097442515</li>\n",
       "\t<li>0.965717835280669</li>\n",
       "</ol>\n"
      ],
      "text/latex": [
       "\\begin{enumerate*}\n",
       "\\item 0.966244097442515\n",
       "\\item 0.965717835280669\n",
       "\\end{enumerate*}\n"
      ],
      "text/markdown": [
       "1. 0.966244097442515\n",
       "2. 0.965717835280669\n",
       "\n",
       "\n"
      ],
      "text/plain": [
       "[1] 0.9662441 0.9657178"
      ]
     },
     "metadata": {},
     "output_type": "display_data"
    },
    {
     "data": {
      "text/plain": [
       "\n",
       "Call:\n",
       "glm(formula = y ~ poly(x, 4), data = data)\n",
       "\n",
       "Deviance Residuals: \n",
       "    Min       1Q   Median       3Q      Max  \n",
       "-2.6375  -0.6287   0.1025   0.5802   3.0969  \n",
       "\n",
       "Coefficients:\n",
       "             Estimate Std. Error t value Pr(>|t|)    \n",
       "(Intercept)  -2.15072    0.09559 -22.499  < 2e-16 ***\n",
       "poly(x, 4)1   6.14295    0.95594   6.426 5.19e-09 ***\n",
       "poly(x, 4)2 -31.05120    0.95594 -32.483  < 2e-16 ***\n",
       "poly(x, 4)3  -0.10063    0.95594  -0.105    0.916    \n",
       "poly(x, 4)4   0.16515    0.95594   0.173    0.863    \n",
       "---\n",
       "Signif. codes:  0 ‘***’ 0.001 ‘**’ 0.01 ‘*’ 0.05 ‘.’ 0.1 ‘ ’ 1\n",
       "\n",
       "(Dispersion parameter for gaussian family taken to be 0.9138141)\n",
       "\n",
       "    Null deviance: 1088.763  on 99  degrees of freedom\n",
       "Residual deviance:   86.812  on 95  degrees of freedom\n",
       "AIC: 281.65\n",
       "\n",
       "Number of Fisher Scoring iterations: 2\n"
      ]
     },
     "metadata": {},
     "output_type": "display_data"
    }
   ],
   "source": [
    "set.seed(9003)\n",
    "\n",
    "y=rnorm(100)\n",
    "x=rnorm(100)\n",
    "y=x-2*x^2+rnorm(100)\n",
    "\n",
    "data = data.frame(x, y)\n",
    "\n",
    "model = glm(\n",
    "    y ~ x,\n",
    "    data = data\n",
    ")\n",
    "cv.glm(\n",
    "    data,\n",
    "    model\n",
    ")$delta\n",
    "\n",
    "data = data.frame(x, y)\n",
    "\n",
    "model = glm(\n",
    "    y ~ poly(x, 2),\n",
    "    data = data\n",
    ")\n",
    "cv.glm(\n",
    "    data,\n",
    "    model\n",
    ")$delta\n",
    "\n",
    "data = data.frame(x, y)\n",
    "\n",
    "model = glm(\n",
    "    y ~ poly(x, 3),\n",
    "    data = data\n",
    ")\n",
    "cv.glm(\n",
    "    data,\n",
    "    model\n",
    ")$delta\n",
    "\n",
    "data = data.frame(x, y)\n",
    "\n",
    "model = glm(\n",
    "    y ~ poly(x, 4),\n",
    "    data = data\n",
    ")\n",
    "cv.glm(\n",
    "    data,\n",
    "    model\n",
    ")$delta\n",
    "\n",
    "summary(model)"
   ]
  },
  {
   "cell_type": "markdown",
   "metadata": {},
   "source": [
    "#### (e)"
   ]
  },
  {
   "cell_type": "markdown",
   "metadata": {},
   "source": [
    "The quadratic model had the smallest error.  This is what you should expect - although the training error will be smaller for cubic and quartic, it won't generalize to validation sets as well."
   ]
  },
  {
   "cell_type": "markdown",
   "metadata": {},
   "source": [
    "#### (f)"
   ]
  },
  {
   "cell_type": "markdown",
   "metadata": {},
   "source": [
    "The results about significance agree."
   ]
  }
 ],
 "metadata": {
  "kernelspec": {
   "display_name": "R",
   "language": "R",
   "name": "ir"
  },
  "language_info": {
   "codemirror_mode": "r",
   "file_extension": ".r",
   "mimetype": "text/x-r-source",
   "name": "R",
   "pygments_lexer": "r",
   "version": "3.5.1"
  }
 },
 "nbformat": 4,
 "nbformat_minor": 2
}
