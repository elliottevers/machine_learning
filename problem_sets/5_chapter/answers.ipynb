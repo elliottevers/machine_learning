{
 "cells": [
  {
   "cell_type": "markdown",
   "metadata": {},
   "source": [
    "# Chapter 5"
   ]
  },
  {
   "cell_type": "markdown",
   "metadata": {},
   "source": [
    "Problems 1, 2, 3, 4"
   ]
  },
  {
   "cell_type": "markdown",
   "metadata": {},
   "source": [
    "## Problem 1"
   ]
  },
  {
   "cell_type": "markdown",
   "metadata": {},
   "source": [
    "![alttext](img/p1.png)"
   ]
  },
  {
   "cell_type": "markdown",
   "metadata": {},
   "source": [
    "**state relevant property of variance**"
   ]
  },
  {
   "cell_type": "markdown",
   "metadata": {},
   "source": [
    "Recall $$ \\operatorname { Var } ( a X + b Y ) = a ^ { 2 } \\operatorname { Var } ( X ) + b ^ { 2 } \\operatorname { Var } ( Y ) + 2 a b \\operatorname { Cov } ( X , Y )$$.\n",
    "\n",
    "**substitute problem specific variables (note the degree of the variable of interest to optimize)**\n",
    "\n",
    "So, $$ \\operatorname { Var } ( \\alpha X + ( 1 - \\alpha ) Y ) = \\\\ \\alpha ^ { 2 } \\operatorname { Var } ( X ) + ( 1 - \\alpha ) ^ { 2 } \\operatorname { Var } ( Y ) + 2 \\alpha ( 1 - \\alpha ) \\operatorname { Cov } ( X , Y ) = \\\\ \\sigma _ { X } ^ { 2 } \\alpha ^ { 2 } + \\sigma _ { Y } ^ { 2 } ( 1 - \\alpha ) ^ { 2 } + 2 \\sigma _ { X Y } \\left( - \\alpha ^ { 2 } + \\alpha \\right) = \\\\ f(\\alpha)\\\\ $$.\n",
    "\n",
    "**simplify until 0 is on one side of expression, and we have expression of $n \\times x^{n-1}$ where x is variable of interest to maximize and n is degree of the variable of interest to optimize)**\n",
    "\n",
    "We have the following critical point,\n",
    "$$\n",
    "f'(\\alpha) = 0 \\implies \\\\\n",
    "2 \\sigma _ { X } ^ { 2 } \\alpha + 2 \\sigma _ { Y } ^ { 2 } ( 1 - \\alpha ) ( - 1 ) + 2 \\sigma _ { X Y } ( - 2 \\alpha + 1 ) = 0 \\implies \\dots \\\\\n",
    "$$\n",
    "\n",
    "**target proposition**\n",
    "\n",
    "$$\n",
    "\\alpha = \\frac { \\sigma _ { Y } ^ { 2 } - \\sigma _ { X Y } } { \\sigma _ { X } ^ { 2 } + \\sigma _ { Y } ^ { 2 } - 2 \\sigma _ { X Y } }\n",
    "$$."
   ]
  },
  {
   "cell_type": "markdown",
   "metadata": {},
   "source": [
    "To see that it's a minimum, note that $ f' ( \\alpha + \\epsilon) > 0, f' ( \\alpha - \\epsilon) < 0$."
   ]
  },
  {
   "cell_type": "markdown",
   "metadata": {},
   "source": [
    "## Problem 2"
   ]
  },
  {
   "cell_type": "markdown",
   "metadata": {},
   "source": [
    "![alttext](img/p2.png)\n",
    "![alttext](img/p2b.png)"
   ]
  },
  {
   "cell_type": "markdown",
   "metadata": {},
   "source": [
    "#### (a-c)"
   ]
  },
  {
   "cell_type": "markdown",
   "metadata": {},
   "source": [
    "Note that\n",
    "$$P(\\text{for a single random draw, } x_i \\in \\text{ bootstrap sample}) = ( \\frac{1}{n} )$$.\n",
    "What is the intuition for this?  If our population is 1, the bootstrap sample will *have* to have that data point.\n",
    "\n",
    "\n",
    "\n",
    "**simplify and interpret**\n",
    "\n",
    "Negating that, we have\n",
    "$$P(\\text{for a single random draw, } x_i \\notin \\text{ bootstrap sample}) = ( 1 - \\frac{1}{n} )$$.\n",
    "\n",
    "Since taking a bootstrap sample amounts to taking $n$ *independent* draws...\n",
    "\n",
    "**target proposition**\n",
    "\n",
    "$P(x_i \\notin \\text{ bootstrap sample}) = ( 1 - \\frac{1}{n} ^ { n })$"
   ]
  },
  {
   "cell_type": "markdown",
   "metadata": {},
   "source": [
    "#### (d)"
   ]
  },
  {
   "cell_type": "markdown",
   "metadata": {},
   "source": [
    "$1 - ( 4 / 5 ) ^ { 5 } = 67.2 \\%$"
   ]
  },
  {
   "cell_type": "markdown",
   "metadata": {},
   "source": [
    "#### (e)\n",
    "$1 - ( 99 / 100 ) ^ { 100 } = 63.4 \\%$"
   ]
  },
  {
   "cell_type": "markdown",
   "metadata": {},
   "source": [
    "#### (f)\n",
    "$1 - ( 1 - 1 / 10000 ) ^ { 10000 } = 63.2 \\%$"
   ]
  },
  {
   "cell_type": "markdown",
   "metadata": {},
   "source": [
    "## Problem 3"
   ]
  },
  {
   "cell_type": "markdown",
   "metadata": {},
   "source": [
    "![alttext](img/p3.png)"
   ]
  },
  {
   "cell_type": "code",
   "execution_count": null,
   "metadata": {},
   "outputs": [],
   "source": []
  }
 ],
 "metadata": {
  "kernelspec": {
   "display_name": "Python 3",
   "language": "python",
   "name": "python3"
  },
  "language_info": {
   "codemirror_mode": {
    "name": "ipython",
    "version": 3
   },
   "file_extension": ".py",
   "mimetype": "text/x-python",
   "name": "python",
   "nbconvert_exporter": "python",
   "pygments_lexer": "ipython3",
   "version": "3.7.0"
  }
 },
 "nbformat": 4,
 "nbformat_minor": 2
}
