{
 "cells": [
  {
   "cell_type": "markdown",
   "metadata": {},
   "source": [
    "Problems 1, 2, 3, 4, 5, 6, 7, 11, 12, 14"
   ]
  },
  {
   "cell_type": "markdown",
   "metadata": {},
   "source": [
    "## Problem 1"
   ]
  },
  {
   "cell_type": "markdown",
   "metadata": {},
   "source": [
    "![alt text](img/p1.png \"Title\")"
   ]
  },
  {
   "cell_type": "markdown",
   "metadata": {},
   "source": [
    "##### Intercept\n",
    "Given no money spent on TV, radio, **and** newspaper ads, we will have 0 profit.  Based on the low p-value, we can reject this."
   ]
  },
  {
   "cell_type": "markdown",
   "metadata": {},
   "source": [
    "##### TV"
   ]
  },
  {
   "cell_type": "markdown",
   "metadata": {},
   "source": [
    "For every dollar spent on TV ads, **in the presence of the other variables**, there will be no increase in profit.  Based on the low p-value, we can reject this."
   ]
  },
  {
   "cell_type": "markdown",
   "metadata": {},
   "source": [
    "#### Radio"
   ]
  },
  {
   "cell_type": "markdown",
   "metadata": {},
   "source": [
    "Same as above with respect to radio."
   ]
  },
  {
   "cell_type": "markdown",
   "metadata": {},
   "source": [
    "#### Newspaper"
   ]
  },
  {
   "cell_type": "markdown",
   "metadata": {},
   "source": [
    "The null hypothesis is similar, but we can't reject this one on account of the high p-value."
   ]
  },
  {
   "cell_type": "markdown",
   "metadata": {},
   "source": [
    "## Problem 2"
   ]
  },
  {
   "cell_type": "markdown",
   "metadata": {},
   "source": [
    "![alt text](img/p2.png \"Title\")"
   ]
  },
  {
   "cell_type": "markdown",
   "metadata": {},
   "source": [
    "#### KNN classifier\n",
    "For a new point, predict the class label that the **majority** of the K nearest neighbors have."
   ]
  },
  {
   "cell_type": "markdown",
   "metadata": {},
   "source": [
    "#### KNN regression\n",
    "For a new point, predict the **mean** of the K nearest neighbors."
   ]
  },
  {
   "cell_type": "markdown",
   "metadata": {},
   "source": [
    "## Problem 3"
   ]
  },
  {
   "cell_type": "markdown",
   "metadata": {},
   "source": [
    "![alt text](img/p3.png \"Title\")"
   ]
  },
  {
   "cell_type": "markdown",
   "metadata": {},
   "source": [
    "#### (a)\n",
    "**iii**\n",
    "- Eventually (once GPA is high enough) the term $\\hat{β_5}X_{5}$ will cancel out, and overtake, the inital bias in favor of females  $\\hat{β_1}$"
   ]
  },
  {
   "cell_type": "markdown",
   "metadata": {},
   "source": [
    "#### (b)\n",
    "Simple substitution yields $137.1$"
   ]
  },
  {
   "cell_type": "markdown",
   "metadata": {},
   "source": [
    "#### (c)\n",
    "False, we don't know any p-values"
   ]
  },
  {
   "cell_type": "markdown",
   "metadata": {},
   "source": [
    "## Problem 4"
   ]
  },
  {
   "cell_type": "markdown",
   "metadata": {},
   "source": [
    "![alt text](img/p4.png \"Title\")"
   ]
  },
  {
   "cell_type": "markdown",
   "metadata": {},
   "source": [
    "![alt text](img/p4b.png \"Title\")"
   ]
  },
  {
   "cell_type": "markdown",
   "metadata": {},
   "source": [
    "#### (a)\n",
    "**RSS of cubic regression will be lower** the more complex model will better fit the training data but..."
   ]
  },
  {
   "cell_type": "markdown",
   "metadata": {},
   "source": [
    "#### (b)\n",
    "**test error of cubic regression will be higher** - it will be modeling noise and not generalize well"
   ]
  },
  {
   "cell_type": "markdown",
   "metadata": {},
   "source": [
    "#### (c)\n",
    "The more complex model always fits the training data better"
   ]
  },
  {
   "cell_type": "markdown",
   "metadata": {},
   "source": [
    "#### (d)\n",
    "We don't have enough information to tell"
   ]
  },
  {
   "cell_type": "markdown",
   "metadata": {},
   "source": [
    "## Problem 5"
   ]
  },
  {
   "cell_type": "markdown",
   "metadata": {},
   "source": [
    "![alt text](img/p5.png \"Title\")"
   ]
  },
  {
   "cell_type": "markdown",
   "metadata": {},
   "source": [
    "Note that $$\\hat{β} = \\\\ \\frac { x _ { 1 } y _ { 1 } + x _ { 2 } y _ { 2 } + \\ldots + x _ { n } y _ { n } } { x _ { 1 } ^ { 2 } + x _ { 2 } ^ { 2 } + \\ldots + x _ { n } ^ { 2 } } = \\\\y_1\\frac{x_1}{\\sum _ { i ^ { \\prime } \\in 1 \\ldots N } x _ { i ^ { \\prime } } ^ { 2 }} + y_2\\frac{x_2}{\\sum _ { i ^ { \\prime } \\in 1 \\ldots N } x _ { i ^ { \\prime } } ^ { 2 }} + \\ldots\\ + y_n\\frac{x_n}{\\sum _ { i ^ { \\prime } \\in 1 \\ldots N } x _ { i ^ { \\prime } } ^ { 2 }}$$."
   ]
  },
  {
   "cell_type": "markdown",
   "metadata": {},
   "source": [
    "TODO: What is the interpretation of the coefficients?"
   ]
  },
  {
   "cell_type": "markdown",
   "metadata": {},
   "source": [
    "## Problem 6\n",
    "![alt text](img/p6.png \"Title\")"
   ]
  },
  {
   "cell_type": "markdown",
   "metadata": {},
   "source": [
    "Well, this happens pretty much by definition.  Note that \"the least squares approach chooses $\\hat { \\beta } _ { 0 }$ and $\\hat { \\beta } _ { 1 }$ to minimize the RSS\", i.e., $$ \\hat { \\beta } _ { 1 } = \\frac { \\sum _ { i = 1 } ^ { n } \\left( x _ { i } - \\overline { x } \\right) \\left( y _ { i } - \\overline { y } \\right) } { \\sum _ { i = 1 } ^ { n } \\left( x _ { i } - \\overline { x } \\right) ^ { 2 } }, \\\\ \\hat { \\beta } _ { 0 } = \\overline { y } - \\hat { \\beta } _ { 1 } \\overline { x }$$."
   ]
  },
  {
   "cell_type": "markdown",
   "metadata": {},
   "source": [
    "Do some very simple algebra on the last line to see this is true."
   ]
  },
  {
   "cell_type": "markdown",
   "metadata": {},
   "source": [
    "## Problem 7"
   ]
  },
  {
   "cell_type": "markdown",
   "metadata": {},
   "source": [
    "![alt text](img/p7.png \"Title\")"
   ]
  },
  {
   "cell_type": "markdown",
   "metadata": {},
   "source": [
    "To make calculations easier, let's just assume $\\overline { x } = \\overline { y } = 0$.  **Is this legal?**  Of course!  We're allowed to normalize our data aren't we?"
   ]
  },
  {
   "cell_type": "markdown",
   "metadata": {},
   "source": [
    "First, note that the **square of the correlation** is\n",
    "$$\\newcommand{\\sumxy}{(\\sum _ { i = 1 } ^ { n } x_i y_i)^2} \\\\\n",
    "\\newcommand{\\sumys}{\\sum _ { i = 1 } ^ { n } y_{i}^2} \\\\\n",
    "\\newcommand{\\sumxs}{\\sum _ { i = 1 } ^ { n } x_{i}^2} \\\\\n",
    "\\text{Corr}^2 = \\\\ \\left( \\frac { \\sum _ { i = 1 } ^ { n } \\left( x _ { i } - \\overline { x } \\right) \\left( y _ { i } - \\overline { y } \\right) } { \\sqrt { \\sum _ { i = 1 } ^ { n } \\left( x _ { i } - \\overline { x } \\right) ^ { 2 } } \\sqrt { \\sum _ { i = 1 } ^ { n } \\left( y _ { i } - \\overline { y } \\right) ^ { 2 } } } \\right) ^ { 2 } = \\\\ \\frac{\\sumxy}{\\sumxs \\sumys}\n",
    "$$."
   ]
  },
  {
   "cell_type": "markdown",
   "metadata": {},
   "source": [
    "Recall that $R^2 = \\frac{\\text{ESS}}{TSS}$.  Since $\\overline{y} = 0$, calculating $TSS$ is easy\n",
    "$$\\newcommand{\\sumy}{\\sum _ { i = 1 } ^ { n } y_{i}^2}\n",
    "TSS =\n",
    "\\sum _ { i = 1 } ^ { n } (y_{i} - \\overline{y})^2 =\n",
    "\\sum _ { i = 1 } ^ { n } y_{i}^2\n",
    "$$."
   ]
  },
  {
   "cell_type": "markdown",
   "metadata": {},
   "source": [
    "Now, **suspending disbelief temporarily**, wouldn't it be nice if the explained sum of squares (ESS) *happened* to be $$ \\frac { (\\sum _ { i = 1 } ^ { n } x _ { i } y _ { i })^2 } { \\sum _ { i = 1 } ^ { n } x _ { i } ^ { 2 } }$$?"
   ]
  },
  {
   "cell_type": "markdown",
   "metadata": {},
   "source": [
    "If that were true, \n",
    "$$ \\frac { \\mathrm { ESS } } { TSS } = \\\\\n",
    "(ESS) \\frac{1}{TSS} = \\\\\n",
    "\\frac {  \\left( \\sum _ { i = 1 } ^ { n } x _ { i } y _ { i } \\right) ^ { 2 } } { \\sum _ { i = 1 } ^ { n } x _ { i } ^ { 2 } } \\frac{1}{\\sum _ { i = 1 } ^ { n } y _ { i } ^ { 2 }} = \\\\\n",
    "\\frac { \\left( \\sum _ { i = 1 } ^ { n } x _ { i } y _ { i } \\right) ^ { 2 } } { \\sum _ { i = 1 } ^ { n } x _ { i } ^ { 2 } \\sum _ { i = 1 } ^ { n } y _ { i } ^ { 2 } }\n",
    "$$\n",
    "and we're done."
   ]
  },
  {
   "cell_type": "markdown",
   "metadata": {},
   "source": [
    "Well, **call it a preemptive QED**, because I'm about to show you that it's true.\n",
    "\n",
    "Since this is a linear regression we chose $\\hat { \\beta } _ { 1 }, \\hat { \\beta } _ { 0 }$ such that:\n",
    "$$\n",
    "\\left.\\begin{aligned} \\hat { \\beta } _ { 1 } & = \\frac { \\sum _ { i = 1 } ^ { n } \\left( x _ { i } - \\overline { x } \\right) \\left( y _ { i } - \\overline { y } \\right) } { \\sum _ { i = 1 } ^ { n } \\left( x _ { i } - \\overline { x } \\right) ^ { 2 } } \\\\ \\hat { \\beta } _ { 0 } & = \\overline { y } - \\hat { \\beta } _ { 1 } \\overline { x } \\end{aligned} \\right.\n",
    "$$.  \n",
    "Now, \n",
    "$$\n",
    "ESS = \\\\\n",
    "\\sum ( \\hat { y } - \\overline{y}) ^ { 2 } = \\\\\n",
    "\\sum ( \\hat { y } ) ^ { 2 } = \\\\\n",
    "\\sum \\left( \\hat { \\beta_0 } + \\hat { \\beta_1 } x _ { i } \\right) ^ { 2 } = \\\\\n",
    "\\sum \\left( \\overline { y } - \\hat { \\beta_1 } \\overline { x } + \\hat { \\beta_1 } x _ { i } \\right) ^ { 2 } = \\\\\n",
    "\\sum \\left( 0 + \\hat { \\beta_1 } x _ { i } \\right) ^ { 2 } = \\\\\n",
    "(\\hat { \\beta_1 })^2 \\sum x _ { i } ^ { 2 } = \\\\\n",
    "\\frac { \\left( \\sum x _ { i } y _ { i } \\right) ^ { 2 } } { (\\sum x _ { i } ^ { 2 })^2 } \\sum x _ { i } ^ { 2 } = \\\\\n",
    "\\frac { \\left( \\sum _ { i = 1 } ^ { n } x _ { i } y _ { i } \\right) ^ { 2 } } { \\sum _ { i = 1 } ^ { n } x _ { i } ^ { 2 } }\n",
    "$$."
   ]
  }
 ],
 "metadata": {
  "kernelspec": {
   "display_name": "Python 2",
   "language": "python",
   "name": "python2"
  },
  "language_info": {
   "codemirror_mode": {
    "name": "ipython",
    "version": 2
   },
   "file_extension": ".py",
   "mimetype": "text/x-python",
   "name": "python",
   "nbconvert_exporter": "python",
   "pygments_lexer": "ipython2",
   "version": "2.7.15"
  }
 },
 "nbformat": 4,
 "nbformat_minor": 2
}
