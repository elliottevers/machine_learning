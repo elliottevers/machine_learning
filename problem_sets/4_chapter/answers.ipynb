{
 "cells": [
  {
   "cell_type": "markdown",
   "metadata": {},
   "source": [
    "Problem 1, 2, 3, 4, 5, 6, 7, 8, 9, 10, 11, 12, 13"
   ]
  },
  {
   "cell_type": "markdown",
   "metadata": {},
   "source": [
    "# Chapter 4"
   ]
  },
  {
   "cell_type": "markdown",
   "metadata": {},
   "source": [
    "## Problem 1"
   ]
  },
  {
   "cell_type": "markdown",
   "metadata": {},
   "source": [
    "![alt text](img/p1.png)"
   ]
  },
  {
   "cell_type": "markdown",
   "metadata": {},
   "source": [
    "Here we go...\n",
    "$$\n",
    "\\newcommand{\\linmod}{\\beta _ { 0 } + \\beta _ { 1 } X}\n",
    "\\frac { p ( X ) } { 1 - p ( X ) } = e ^ { \\linmod } \\implies \\\\\n",
    "p (X) = e ^ { \\linmod } \\times ( 1 - p (X) ) \\implies \\\\\n",
    "p (X) = e ^ { \\linmod } - p (X) e ^ { \\linmod } \\implies \\\\\n",
    "p (X) + p (X) e ^ { \\linmod } = e ^ { \\linmod } \\implies \\\\\n",
    "p (X) \\left( 1 + e ^ { \\linmod } \\right) = e ^ { x\\linmod} \\implies \\\\\n",
    "p (X) = \\frac { e ^ { \\linmod } } { 1 + e ^ { \\linmod } }\n",
    "$$."
   ]
  },
  {
   "cell_type": "markdown",
   "metadata": {},
   "source": [
    "## Problem 2"
   ]
  },
  {
   "cell_type": "markdown",
   "metadata": {},
   "source": [
    "![alttext](img/p2.png)"
   ]
  },
  {
   "cell_type": "markdown",
   "metadata": {},
   "source": [
    "Assume we have a class, $k$, that maximizes the linear discriminant.  Then,\n",
    "$$\n",
    "x \\frac { \\mu _ { k } } { \\sigma ^ { 2 } } - \\frac { \\mu _ { k } ^ { 2 } } { 2 \\sigma ^ { 2 } } + \\log \\left( \\pi _ { k } \\right) \\geq x \\frac { \\mu _ { i } } { \\sigma ^ { 2 } } - \\frac { \\mu _ { i } ^ { 2 } } { 2 \\sigma ^ { 2 } } + \\log \\left( \\pi _ { i } \\right)\n",
    "\\implies \\\\\n",
    "A = \\pi _ { k } \\exp \\left( x \\frac { \\mu _ { k } } { \\sigma ^ { 2 } } - \\frac { \\mu _ { k } ^ { 2 } } { 2 \\sigma ^ { 2 } } \\right) \\geq \\pi _ { i } \\exp \\left( x \\frac { \\mu _ { i } } { \\sigma ^ { 2 } } - \\frac { \\mu _ { i } ^ { 2 } } { 2 \\sigma ^ { 2 } } \\right) = B \\implies \\\\\n",
    "A \\times \\frac { \\frac { 1 } { \\sqrt { 2 \\pi \\sigma } } \\exp \\left( - \\frac { 1 } { 2 \\sigma ^ { 2 } } x ^ { 2 } \\right) } { \\sum \\pi _ { l } \\frac { 1 } { \\sqrt { 2 \\pi \\sigma } } \\exp \\left( - \\frac { 1 } { 2 \\sigma ^ { 2 } } \\left( x - \\mu _ { l } \\right) ^ { 2 } \\right) } \\geq B \\times \\frac { \\frac { 1 } { \\sqrt { 2 \\pi \\sigma } } \\exp \\left( - \\frac { 1 } { 2 \\sigma ^ { 2 } } x ^ { 2 } \\right) } { \\sum \\pi _ { l } \\frac { 1 } { \\sqrt { 2 \\pi \\sigma } } \\exp \\left( - \\frac { 1 } { 2 \\sigma ^ { 2 } } \\left( x - \\mu _ { l } \\right) ^ { 2 } \\right) } \\implies \\\\\n",
    "\\frac { \\pi _ { k } \\frac { 1 } { \\sqrt { 2 \\pi \\sigma } } \\exp \\left( - \\frac { 1 } { 2 \\sigma ^ { 2 } } \\left( x - \\mu _ { k } \\right) ^ { 2 } \\right) } { \\sum \\pi _ { l } \\frac { 1 } { \\sqrt { 2 \\pi \\sigma } } \\exp \\left( - \\frac { 1 } { 2 \\sigma ^ { 2 } } \\left( x - \\mu _ { l } \\right) ^ { 2 } \\right) } \\geq \\frac { \\pi _ { i } \\frac { 1 } { \\sqrt { 2 \\pi \\sigma } } \\exp \\left( - \\frac { 1 } { 2 \\sigma ^ { 2 } } \\left( x - \\mu _ { i } \\right) ^ { 2 } \\right) } { \\sum \\pi _ { l } \\frac { 1 } { \\sqrt { 2 \\pi \\sigma } } \\exp \\left( - \\frac { 1 } { 2 \\sigma ^ { 2 } } \\left( x - \\mu _ { l } \\right) ^ { 2 } \\right) }\n",
    "$$\n",
    "and we've maximized the posterior probability over the classes."
   ]
  },
  {
   "cell_type": "markdown",
   "metadata": {},
   "source": [
    "## Problem 3"
   ]
  },
  {
   "cell_type": "markdown",
   "metadata": {},
   "source": [
    "![alttext](img/p3.png)\n",
    "![alttext](img/p3b.png)"
   ]
  },
  {
   "cell_type": "markdown",
   "metadata": {},
   "source": [
    "- State definition of Bayes Classifier in maximum generality\n",
    "$$p \\left( C _ { k } | \\mathbf { x } \\right) = \\frac { p \\left( C _ { k } \\right) p ( \\mathbf { x } | C _ { k } ) } { p ( \\mathbf { x } ) }\n",
    "$$\n",
    "- Substitute problem specific class probabilities and densities\n",
    "$$p _ { k } ( x ) = \\frac { \\pi _ { k } \\frac { 1 } { \\sqrt { 2 \\pi \\sigma _ { k } } } \\exp \\left( - \\frac { 1 } { 2 \\sigma _ { k } ^ { 2 } } \\left( x - \\mu _ { k } \\right) ^ { 2 } \\right) } { \\sum \\pi _ { l } \\frac { 1 } { \\sqrt { 2 \\pi \\sigma _ { l } } } \\exp \\left( - \\frac { 1 } { 2 \\sigma _ { l } ^ { 2 } } \\left( x - \\mu _ { l } \\right) ^ { 2 } \\right) }$$\n",
    "- To get rid of division, multiplication, and exponential expressions, take log of both sides then...\n",
    "- Simplify to expression with term $x^2$, preferably the QDA discriminant score since it says that the problem is related to it\n",
    "$$\\delta ( x ) = \\log \\left( \\pi _ { k } \\right) + \\log \\left( \\frac { 1 } { \\sqrt { 2 \\pi } \\sigma _ { k } } \\right) + - \\frac { 1 } { 2 \\sigma _ { k } ^ { 2 } } \\left( x - \\mu _ { k } \\right) ^ { 2 }\n",
    "$$"
   ]
  },
  {
   "cell_type": "markdown",
   "metadata": {},
   "source": [
    "## Problem 4\n",
    "![alttext](img/p4.png)"
   ]
  },
  {
   "cell_type": "markdown",
   "metadata": {},
   "source": [
    "![alttext](img/p4a.png)"
   ]
  },
  {
   "cell_type": "markdown",
   "metadata": {},
   "source": [
    "- *Calculate 10% of range of X*\n",
    "\n",
    "First, note that 10% of $Range(X)$ = $.1 \\times (1 - 0) = .1$.\n",
    "\n",
    "- *define region*\n",
    "\n",
    "Let $A_x$ be the described region, then ...\n",
    "\n",
    "$$ [ 0,1 ] \\supseteq A _ { x } = \\left\\{ \\begin{array} {ll}[ .9,1 ] , x \\geq .9 \\\\ [ 0 , .1 ] , x \\leq .1 \\\\ [ x - .05 , x + .05 ] , 1 < x < .9 \\end{array} \\right. $$.\n",
    "\n",
    "- *pdf*\n",
    "\n",
    "Since we have a uniform distribution, the density, $f$, of X over $[0, 1]$ is 1.\n",
    "\n",
    "- *integrate integral pdf over range*\n",
    "\n",
    "This means the fraction of observations we'll use is\n",
    "\n",
    "$$ \\int _ { A _ { x } } 1 \\mathrm { dx } = \\int _ { A _ { x } } d x = \\dots$$\n",
    "\n",
    "- *concrete number*\n",
    "\n",
    "$$ \\frac { 1 } { 10 }$$"
   ]
  },
  {
   "cell_type": "markdown",
   "metadata": {},
   "source": [
    "![alttext](img/p4b.png)"
   ]
  },
  {
   "cell_type": "markdown",
   "metadata": {},
   "source": [
    "Defining regions $$ A_{x1}, A_{x2}$$ in a similar manner gives us the integral $$ \\int_{A_{x2}} \\int _ { A_{x1} } d x _ { 1 } d x_{2} = \\frac{1}{100}$$."
   ]
  },
  {
   "cell_type": "markdown",
   "metadata": {},
   "source": [
    "![alttext](img/p4c.png)"
   ]
  },
  {
   "cell_type": "markdown",
   "metadata": {},
   "source": [
    "$\\frac{1}{10^100}$"
   ]
  }
 ],
 "metadata": {
  "kernelspec": {
   "display_name": "R",
   "language": "R",
   "name": "ir"
  },
  "language_info": {
   "codemirror_mode": "r",
   "file_extension": ".r",
   "mimetype": "text/x-r-source",
   "name": "R",
   "pygments_lexer": "r",
   "version": "3.5.1"
  }
 },
 "nbformat": 4,
 "nbformat_minor": 2
}
