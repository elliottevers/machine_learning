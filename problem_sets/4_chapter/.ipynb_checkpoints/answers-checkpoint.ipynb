{
 "cells": [
  {
   "cell_type": "markdown",
   "metadata": {},
   "source": [
    "Problem 1, 2, 3, 4, 5, 6, 7, 9, 10, 11, 12, 13"
   ]
  },
  {
   "cell_type": "markdown",
   "metadata": {},
   "source": [
    "# Chapter 4"
   ]
  },
  {
   "cell_type": "markdown",
   "metadata": {},
   "source": [
    "## Problem 1"
   ]
  },
  {
   "cell_type": "markdown",
   "metadata": {},
   "source": [
    "![alt text](img/p1.png)"
   ]
  },
  {
   "cell_type": "markdown",
   "metadata": {},
   "source": [
    "Here we go...\n",
    "$$\n",
    "\\newcommand{\\linmod}{\\beta _ { 0 } + \\beta _ { 1 } X}\n",
    "\\frac { p ( X ) } { 1 - p ( X ) } = e ^ { \\linmod } \\implies \\\\\n",
    "p (X) = e ^ { \\linmod } \\times ( 1 - p (X) ) \\implies \\\\\n",
    "p (X) = e ^ { \\linmod } - p (X) e ^ { \\linmod } \\implies \\\\\n",
    "p (X) + p (X) e ^ { \\linmod } = e ^ { \\linmod } \\implies \\\\\n",
    "p (X) \\left( 1 + e ^ { \\linmod } \\right) = e ^ { x\\linmod} \\implies \\\\\n",
    "p (X) = \\frac { e ^ { \\linmod } } { 1 + e ^ { \\linmod } }\n",
    "$$."
   ]
  },
  {
   "cell_type": "markdown",
   "metadata": {},
   "source": [
    "## Problem 2"
   ]
  },
  {
   "cell_type": "markdown",
   "metadata": {},
   "source": [
    "![alttext](img/p2.png)"
   ]
  },
  {
   "cell_type": "markdown",
   "metadata": {},
   "source": [
    "Assume we have a class, $k$, that maximizes the linear discriminant.  Then,\n",
    "$$\n",
    "x \\frac { \\mu _ { k } } { \\sigma ^ { 2 } } - \\frac { \\mu _ { k } ^ { 2 } } { 2 \\sigma ^ { 2 } } + \\log \\left( \\pi _ { k } \\right) \\geq x \\frac { \\mu _ { i } } { \\sigma ^ { 2 } } - \\frac { \\mu _ { i } ^ { 2 } } { 2 \\sigma ^ { 2 } } + \\log \\left( \\pi _ { i } \\right)\n",
    "\\implies \\\\\n",
    "A = \\pi _ { k } \\exp \\left( x \\frac { \\mu _ { k } } { \\sigma ^ { 2 } } - \\frac { \\mu _ { k } ^ { 2 } } { 2 \\sigma ^ { 2 } } \\right) \\geq \\pi _ { i } \\exp \\left( x \\frac { \\mu _ { i } } { \\sigma ^ { 2 } } - \\frac { \\mu _ { i } ^ { 2 } } { 2 \\sigma ^ { 2 } } \\right) = B \\implies \\\\\n",
    "A \\times \\frac { \\frac { 1 } { \\sqrt { 2 \\pi \\sigma } } \\exp \\left( - \\frac { 1 } { 2 \\sigma ^ { 2 } } x ^ { 2 } \\right) } { \\sum \\pi _ { l } \\frac { 1 } { \\sqrt { 2 \\pi \\sigma } } \\exp \\left( - \\frac { 1 } { 2 \\sigma ^ { 2 } } \\left( x - \\mu _ { l } \\right) ^ { 2 } \\right) } \\geq B \\times \\frac { \\frac { 1 } { \\sqrt { 2 \\pi \\sigma } } \\exp \\left( - \\frac { 1 } { 2 \\sigma ^ { 2 } } x ^ { 2 } \\right) } { \\sum \\pi _ { l } \\frac { 1 } { \\sqrt { 2 \\pi \\sigma } } \\exp \\left( - \\frac { 1 } { 2 \\sigma ^ { 2 } } \\left( x - \\mu _ { l } \\right) ^ { 2 } \\right) } \\implies \\\\\n",
    "\\frac { \\pi _ { k } \\frac { 1 } { \\sqrt { 2 \\pi \\sigma } } \\exp \\left( - \\frac { 1 } { 2 \\sigma ^ { 2 } } \\left( x - \\mu _ { k } \\right) ^ { 2 } \\right) } { \\sum \\pi _ { l } \\frac { 1 } { \\sqrt { 2 \\pi \\sigma } } \\exp \\left( - \\frac { 1 } { 2 \\sigma ^ { 2 } } \\left( x - \\mu _ { l } \\right) ^ { 2 } \\right) } \\geq \\frac { \\pi _ { i } \\frac { 1 } { \\sqrt { 2 \\pi \\sigma } } \\exp \\left( - \\frac { 1 } { 2 \\sigma ^ { 2 } } \\left( x - \\mu _ { i } \\right) ^ { 2 } \\right) } { \\sum \\pi _ { l } \\frac { 1 } { \\sqrt { 2 \\pi \\sigma } } \\exp \\left( - \\frac { 1 } { 2 \\sigma ^ { 2 } } \\left( x - \\mu _ { l } \\right) ^ { 2 } \\right) }\n",
    "$$\n",
    "and we've maximized the posterior probability over the classes."
   ]
  },
  {
   "cell_type": "markdown",
   "metadata": {},
   "source": [
    "## Problem 3"
   ]
  },
  {
   "cell_type": "markdown",
   "metadata": {},
   "source": [
    "![alttext](img/p3.png)\n",
    "![alttext](img/p3b.png)"
   ]
  },
  {
   "cell_type": "markdown",
   "metadata": {},
   "source": [
    "- State definition of Bayes Classifier in maximum generality\n",
    "$$p \\left( C _ { k } | \\mathbf { x } \\right) = \\frac { p \\left( C _ { k } \\right) p ( \\mathbf { x } | C _ { k } ) } { p ( \\mathbf { x } ) }\n",
    "$$\n",
    "- Substitute problem specific class probabilities and densities\n",
    "$$p _ { k } ( x ) = \\frac { \\pi _ { k } \\frac { 1 } { \\sqrt { 2 \\pi \\sigma _ { k } } } \\exp \\left( - \\frac { 1 } { 2 \\sigma _ { k } ^ { 2 } } \\left( x - \\mu _ { k } \\right) ^ { 2 } \\right) } { \\sum \\pi _ { l } \\frac { 1 } { \\sqrt { 2 \\pi \\sigma _ { l } } } \\exp \\left( - \\frac { 1 } { 2 \\sigma _ { l } ^ { 2 } } \\left( x - \\mu _ { l } \\right) ^ { 2 } \\right) }$$\n",
    "- To get rid of division, multiplication, and exponential expressions, take log of both sides then...\n",
    "- Simplify to expression with term $x^2$, preferably the QDA discriminant score since it says that the problem is related to it\n",
    "$$\\delta ( x ) = \\log \\left( \\pi _ { k } \\right) + \\log \\left( \\frac { 1 } { \\sqrt { 2 \\pi } \\sigma _ { k } } \\right) + - \\frac { 1 } { 2 \\sigma _ { k } ^ { 2 } } \\left( x - \\mu _ { k } \\right) ^ { 2 }\n",
    "$$"
   ]
  },
  {
   "cell_type": "markdown",
   "metadata": {},
   "source": [
    "## Problem 4\n",
    "![alttext](img/p4.png)"
   ]
  },
  {
   "cell_type": "markdown",
   "metadata": {},
   "source": [
    "![alttext](img/p4a.png)"
   ]
  },
  {
   "cell_type": "markdown",
   "metadata": {},
   "source": [
    "- *Calculate 10% of range of X*\n",
    "\n",
    "First, note that 10% of $Range(X)$ = $.1 \\times (1 - 0) = .1$.\n",
    "\n",
    "- *define region*\n",
    "\n",
    "Let $A_x$ be the described region, then ...\n",
    "\n",
    "$$ [ 0,1 ] \\supseteq A _ { x } = \\left\\{ \\begin{array} {ll}[ .9,1 ] , x \\geq .9 \\\\ [ 0 , .1 ] , x \\leq .1 \\\\ [ x - .05 , x + .05 ] , 1 < x < .9 \\end{array} \\right. $$.\n",
    "\n",
    "- *pdf*\n",
    "\n",
    "Since we have a uniform distribution, the density, $f$, of X over $[0, 1]$ is 1.\n",
    "\n",
    "- *integrate integral pdf over range*\n",
    "\n",
    "This means the fraction of observations we'll use is\n",
    "\n",
    "$$ \\int _ { A _ { x } } 1 \\mathrm { dx } = \\int _ { A _ { x } } d x = \\dots$$\n",
    "\n",
    "- *concrete number*\n",
    "\n",
    "$$ \\frac { 1 } { 10 }$$"
   ]
  },
  {
   "cell_type": "markdown",
   "metadata": {},
   "source": [
    "![alttext](img/p4b.png)"
   ]
  },
  {
   "cell_type": "markdown",
   "metadata": {},
   "source": [
    "Defining regions $$ A_{x1}, A_{x2}$$ in a similar manner gives us the integral $$ \\int_{A_{x2}} \\int _ { A_{x1} } d x _ { 1 } d x_{2} = \\frac{1}{100}$$."
   ]
  },
  {
   "cell_type": "markdown",
   "metadata": {},
   "source": [
    "![alttext](img/p4c.png)"
   ]
  },
  {
   "cell_type": "markdown",
   "metadata": {},
   "source": [
    "$\\frac{1}{10^{100}}$"
   ]
  },
  {
   "cell_type": "markdown",
   "metadata": {},
   "source": [
    "## Problem 5"
   ]
  },
  {
   "cell_type": "markdown",
   "metadata": {},
   "source": [
    "![alttext](img/p5.png)"
   ]
  },
  {
   "cell_type": "markdown",
   "metadata": {},
   "source": [
    "![alttext](img/p5a.png)"
   ]
  },
  {
   "cell_type": "markdown",
   "metadata": {},
   "source": [
    "Appealing to the following generalized behavior"
   ]
  },
  {
   "cell_type": "markdown",
   "metadata": {},
   "source": [
    "![alttext](img/a5a.png)"
   ]
  },
  {
   "cell_type": "markdown",
   "metadata": {},
   "source": [
    "we note\n",
    "- since train error (blue) is monotonically decreasing, and with QDA we fit more parameters than LDA, **QDA will have lower train error**\n",
    "- since the complexity of LDA is sufficient to model the data, and QDA is more complex, **LDA will have lower test error**"
   ]
  },
  {
   "cell_type": "markdown",
   "metadata": {},
   "source": [
    "![alttext](img/p5b.png)"
   ]
  },
  {
   "cell_type": "markdown",
   "metadata": {},
   "source": [
    "QDA wil still have lower training error, but it will also have lower test error."
   ]
  },
  {
   "cell_type": "markdown",
   "metadata": {},
   "source": [
    "![alttext](img/p5c.png)"
   ]
  },
  {
   "cell_type": "markdown",
   "metadata": {},
   "source": [
    "QDA's accuracy will improve to a greater degree than LDA's by seeing more data."
   ]
  },
  {
   "cell_type": "markdown",
   "metadata": {},
   "source": [
    "## Problem 6"
   ]
  },
  {
   "cell_type": "markdown",
   "metadata": {},
   "source": [
    "![alttext](img/p6.png)"
   ]
  },
  {
   "cell_type": "markdown",
   "metadata": {},
   "source": [
    "#### (a)\n",
    "Consider $$E = P(Y = A | X_1 = 40, X_2 = 3.5$$.  Then $$\\text{log odds of E } = -6 + X_1 \\times .05 + 3.5 \\times 1 \\implies \\\\ \\text{odds of E } = e^{-.5} \\approx .6 \\implies \\\\ P(E) \\approx .4$$."
   ]
  },
  {
   "cell_type": "markdown",
   "metadata": {},
   "source": [
    "#### (b)"
   ]
  },
  {
   "cell_type": "markdown",
   "metadata": {},
   "source": [
    "$$ P(E) = .5 \\implies \\\\ \\ln \\frac{P(E)}{1 - P(E)} = \\ln 1 = -6 + .05x + 3.5 \\implies \\\\x = 50$$"
   ]
  },
  {
   "cell_type": "markdown",
   "metadata": {},
   "source": [
    "The student would have to study 50 hours."
   ]
  },
  {
   "cell_type": "markdown",
   "metadata": {},
   "source": [
    "## Problem 7"
   ]
  },
  {
   "cell_type": "markdown",
   "metadata": {},
   "source": [
    "![alttext](img/p7.png)"
   ]
  },
  {
   "cell_type": "markdown",
   "metadata": {},
   "source": [
    "Recall Bayes Theorem with the Gaussian Density $$ p _ { k } ( x ) = \\frac { \\pi _ { k } \\frac { 1 } { \\sqrt { 2 \\pi } \\sigma } e ^ { - \\frac { 1 } { 2 } \\left( \\frac { x - \\mu _ { k } } { \\sigma } \\right) ^ { 2 } } } { \\sum _ { l = 1 } ^ { K } \\pi _ { l } \\frac { 1 } { \\sqrt { 2 \\pi } \\sigma } e ^ { - \\frac { 1 } { 2 } \\left( \\frac { x - \\mu _ { l } } { \\sigma } \\right) ^ { 2 } } }$$"
   ]
  },
  {
   "cell_type": "markdown",
   "metadata": {},
   "source": [
    "Let $$C_1 = \\text{companies who were issued dividends}, \\\\ C_2 = \\text{companies who were not issued dividends}$$\n",
    "\n",
    "Then, computing $$P(x \\in C_1 | X = 4) = 75.2$$ amounts to substituting all the class probabilities, means, standard deviations described above."
   ]
  },
  {
   "cell_type": "markdown",
   "metadata": {},
   "source": [
    "## Problem 10"
   ]
  }
 ],
 "metadata": {
  "kernelspec": {
   "display_name": "R",
   "language": "R",
   "name": "ir"
  },
  "language_info": {
   "codemirror_mode": "r",
   "file_extension": ".r",
   "mimetype": "text/x-r-source",
   "name": "R",
   "pygments_lexer": "r",
   "version": "3.5.1"
  }
 },
 "nbformat": 4,
 "nbformat_minor": 2
}
