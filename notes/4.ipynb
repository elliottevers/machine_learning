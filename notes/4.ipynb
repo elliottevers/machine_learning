{
 "cells": [
  {
   "cell_type": "markdown",
   "metadata": {},
   "source": [
    "# Classification"
   ]
  },
  {
   "cell_type": "markdown",
   "metadata": {},
   "source": [
    "**Bayes Classifier** - assign label to class with optimal maximum likelihood given data"
   ]
  },
  {
   "cell_type": "markdown",
   "metadata": {},
   "source": [
    "1. Assume that all classes are modeled by a normal distribution\n",
    "2. estimate those two parameters for each class\n",
    "3. substitute into Bayes theorem"
   ]
  },
  {
   "cell_type": "markdown",
   "metadata": {},
   "source": [
    "QDA - have to estimate covariance matrix"
   ]
  },
  {
   "cell_type": "markdown",
   "metadata": {},
   "source": [
    "Diminishing returns for unbalanced binary data - Plotting (variance of coefficients of estimator) vs (control/case ratio) shows that variance levels off after a ratio of 6, which means we don't have to include more that 6 times the negative cases "
   ]
  },
  {
   "cell_type": "markdown",
   "metadata": {},
   "source": [
    "### Logistic Regression"
   ]
  },
  {
   "cell_type": "markdown",
   "metadata": {},
   "source": [
    "### Multiclass"
   ]
  },
  {
   "cell_type": "markdown",
   "metadata": {},
   "source": [
    "$$ \\operatorname { Pr } ( Y = k | X ) = \\frac { e ^ { \\beta _ { 0 k } + \\beta _ { 1 k } X _ { 1 } + \\ldots + \\beta _ { p k } X _ { p } } } { \\sum _ { \\ell = 1 } ^ { K } e ^ { \\beta _ { 0 \\ell } + \\beta _ { 1 \\ell } X _ { 1 } + \\ldots + \\beta _ { p \\ell } X _ { p } } }$$"
   ]
  },
  {
   "cell_type": "markdown",
   "metadata": {},
   "source": [
    "### LDA"
   ]
  },
  {
   "cell_type": "markdown",
   "metadata": {},
   "source": [
    "Why use LDA?\n",
    "- As classes become more perfectly separated, logistic regression coefficients tend to infinity.\n",
    "- when n is small and X are evenly distributed in each class, LDA more stable\n",
    "- useful for multiclass"
   ]
  },
  {
   "cell_type": "markdown",
   "metadata": {},
   "source": [
    "For each class, model distribution of X.  Then use Bayes theorem to predict $P(Y|X)$."
   ]
  },
  {
   "cell_type": "markdown",
   "metadata": {},
   "source": [
    "$$ \\operatorname { Pr } ( Y = k | X = x ) = \\frac { \\operatorname { Pr } ( X = x | Y = k ) \\cdot \\operatorname { Pr } ( Y = k ) } { \\operatorname { Pr } ( X = x ) }$$"
   ]
  },
  {
   "cell_type": "markdown",
   "metadata": {},
   "source": [
    "How to estimate calculate\n",
    "- $\\operatorname { Pr } ( X = x | Y = k )$\n",
    "- $\\operatorname { Pr } ( Y = k )$\n",
    "- $\\operatorname { Pr } ( X = x )$"
   ]
  },
  {
   "cell_type": "markdown",
   "metadata": {},
   "source": [
    "#### Classification for LDA - class with highest *discriminant score*"
   ]
  },
  {
   "cell_type": "markdown",
   "metadata": {},
   "source": [
    "$$ \\delta _ { k } ( x ) = x \\cdot \\frac { \\mu _ { k } } { \\sigma ^ { 2 } } - \\frac { \\mu _ { k } ^ { 2 } } { 2 \\sigma ^ { 2 } } + \\log \\left( \\pi _ { k } \\right)$$"
   ]
  },
  {
   "cell_type": "markdown",
   "metadata": {},
   "source": [
    "this function is linear in x"
   ]
  },
  {
   "cell_type": "markdown",
   "metadata": {},
   "source": [
    "For two classes, decision boundary is at the average of the means of the two classes\n",
    "$$ x = \\frac { \\mu _ { 1 } + \\mu _ { 2 } } { 2 }$$"
   ]
  },
  {
   "cell_type": "markdown",
   "metadata": {},
   "source": [
    "### Estimate densities with histograms"
   ]
  },
  {
   "cell_type": "markdown",
   "metadata": {},
   "source": [
    "Estimating te parameters\n",
    "$$ \\left.\\begin{aligned} \\hat { \\pi } _ { k } & = \\frac { n _ { k } } { n } \\\\ \\hat { \\mu } _ { k } & = \\frac { 1 } { n _ { k } } \\sum _ { i : y _ { i } = k } x _ { i } \\\\ \\hat { \\sigma } ^ { 2 } & = \\frac { 1 } { n - K } \\sum _ { k = 1 } ^ { K } \\sum _ { i : y _ { i } = k } \\left( x _ { i } - \\hat { \\mu } _ { k } \\right) ^ { 2 } \\\\ & = \\sum _ { k = 1 } ^ { K } \\frac { n _ { k } - 1 } { n - K } \\cdot \\hat { \\sigma } _ { k } ^ { 2 } \\end{aligned} \\right.$$"
   ]
  },
  {
   "cell_type": "markdown",
   "metadata": {},
   "source": [
    "## **LDA is measuring which centroid is the closest, taking into account the correlation (covariance) in variables**"
   ]
  },
  {
   "cell_type": "markdown",
   "metadata": {},
   "source": [
    "**K centroids span a K - 1 dimensional subspace**"
   ]
  },
  {
   "cell_type": "markdown",
   "metadata": {},
   "source": [
    "Seeing which class is closest amounts to distance in that subspace"
   ]
  },
  {
   "cell_type": "markdown",
   "metadata": {},
   "source": [
    "#### Can't carry out LDA in large number of variables"
   ]
  },
  {
   "cell_type": "markdown",
   "metadata": {},
   "source": [
    "**Null Rate** - our misclassification rate by using a naive classification model"
   ]
  },
  {
   "cell_type": "markdown",
   "metadata": {},
   "source": [
    "ROC curve"
   ]
  },
  {
   "cell_type": "markdown",
   "metadata": {},
   "source": [
    "Can visualize with 2D plot discriminant analysis perfectly for K = 3 dimensions, and can find \"best\" 2D plot for K > 3 dimensions"
   ]
  },
  {
   "cell_type": "markdown",
   "metadata": {},
   "source": [
    "#### Naive Bayes\n",
    "Assume indepenence, so we don't have to estimate covariance matrix"
   ]
  },
  {
   "cell_type": "markdown",
   "metadata": {},
   "source": [
    "**Discriminative learning** modeling conditial densities\n",
    "**Generative learning** modeling joint densities"
   ]
  },
  {
   "cell_type": "markdown",
   "metadata": {},
   "source": [
    "https://www.quora.com/Is-there-any-relation-between-correlation-of-two-signals-and-dot-product-of-two-vectors"
   ]
  }
 ],
 "metadata": {
  "kernelspec": {
   "display_name": "Python 2",
   "language": "python",
   "name": "python2"
  },
  "language_info": {
   "codemirror_mode": {
    "name": "ipython",
    "version": 2
   },
   "file_extension": ".py",
   "mimetype": "text/x-python",
   "name": "python",
   "nbconvert_exporter": "python",
   "pygments_lexer": "ipython2",
   "version": "2.7.15"
  }
 },
 "nbformat": 4,
 "nbformat_minor": 2
}
