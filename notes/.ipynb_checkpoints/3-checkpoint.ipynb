{
 "cells": [
  {
   "cell_type": "markdown",
   "metadata": {},
   "source": [
    "# Linear Regression"
   ]
  },
  {
   "cell_type": "markdown",
   "metadata": {},
   "source": [
    "### Linear cost function\n",
    "```\n",
    "Data = Mapping[Real, Real]\n",
    "\n",
    "BoundedSequence = Array\n",
    "\n",
    "def hypothesis(\n",
    "    Real x,\n",
    "    Array[Real] coefficients\n",
    ") -> Real:\n",
    "    sequence = [\n",
    "        coefficient * (x ^ index)\n",
    "        for index, coefficient\n",
    "        in coefficients\n",
    "    ]\n",
    "    return sum(sequence)\n",
    "\n",
    "# Cost Function\n",
    "def J(\n",
    "    Data data,\n",
    "    Callable[Real, Real] hypothesis\n",
    ") -> Real:\n",
    "    quotient = 1/ 2*length(data)\n",
    "    \n",
    "    sum = sum([\n",
    "        (hypothesis(predictor) - observed) ^ 2\n",
    "        for predictor, observed\n",
    "        in data\n",
    "    ])\n",
    "    \n",
    "    return product(\n",
    "        quotient,\n",
    "        sum\n",
    "    )\n",
    "```\n",
    "    "
   ]
  },
  {
   "cell_type": "markdown",
   "metadata": {},
   "source": [
    "### Batch Gradient Descent"
   ]
  },
  {
   "cell_type": "markdown",
   "metadata": {},
   "source": [
    "```\n",
    "def batch_gradient_descent(\n",
    "    Array[Real] coefficients,\n",
    "    Data data,\n",
    "    Callable[Real, Real] hypothesis,\n",
    "    Integer num_batches,\n",
    "    Real learning_rate\n",
    ") -> Array[Real]:\n",
    "\n",
    "    m = length(data)\n",
    "    \n",
    "    quotient = 1/m\n",
    "    \n",
    "    for batch_num in num_batches:\n",
    "        for coefficient in coefficients:\n",
    "            sum = sum([\n",
    "                (hypothesis(predictor) - response) * predictor\n",
    "                for predictor, response\n",
    "                in data\n",
    "            ])\n",
    "        coefficient = coefficient - (learning_rate * quotient * sum)\n",
    "\n",
    "    return coefficients\n",
    "```"
   ]
  },
  {
   "cell_type": "markdown",
   "metadata": {},
   "source": [
    "### Matrix Differentiation"
   ]
  },
  {
   "cell_type": "markdown",
   "metadata": {},
   "source": [
    "https://atmos.washington.edu/~dennis/MatrixCalculus.pdf"
   ]
  },
  {
   "cell_type": "markdown",
   "metadata": {},
   "source": [
    "### Derivation of normal equation"
   ]
  },
  {
   "cell_type": "markdown",
   "metadata": {},
   "source": [
    "https://eli.thegreenplace.net/2014/derivation-of-the-normal-equation-for-linear-regression"
   ]
  },
  {
   "cell_type": "markdown",
   "metadata": {},
   "source": [
    "### Simple"
   ]
  },
  {
   "cell_type": "markdown",
   "metadata": {},
   "source": [
    "### Hypothesis Testing"
   ]
  },
  {
   "cell_type": "markdown",
   "metadata": {},
   "source": [
    "### Multiple"
   ]
  },
  {
   "cell_type": "markdown",
   "metadata": {},
   "source": [
    "### Model Selection"
   ]
  }
 ],
 "metadata": {
  "kernelspec": {
   "display_name": "Python 2",
   "language": "python",
   "name": "python2"
  },
  "language_info": {
   "codemirror_mode": {
    "name": "ipython",
    "version": 2
   },
   "file_extension": ".py",
   "mimetype": "text/x-python",
   "name": "python",
   "nbconvert_exporter": "python",
   "pygments_lexer": "ipython2",
   "version": "2.7.15"
  }
 },
 "nbformat": 4,
 "nbformat_minor": 2
}
