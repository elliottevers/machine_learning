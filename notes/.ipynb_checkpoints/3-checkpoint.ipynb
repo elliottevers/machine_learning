{
 "cells": [
  {
   "cell_type": "markdown",
   "metadata": {},
   "source": [
    "# Linear Regression"
   ]
  },
  {
   "cell_type": "markdown",
   "metadata": {},
   "source": [
    "##### Linear cost function\n",
    "```\n",
    "Data = Mapping[Real, Real]\n",
    "\n",
    "BoundedSequence = Array\n",
    "\n",
    "def hypothesis(\n",
    "    Real x,\n",
    "    Array[Real] coefficients\n",
    ") ->\n",
    "Real:\n",
    "    sequence = [\n",
    "        coefficient * (x ^ index)\n",
    "        for index, coefficient\n",
    "        in coefficients\n",
    "    ]\n",
    "    return sum(sequence)\n",
    "\n",
    "# Cost Function\n",
    "def J(\n",
    "    Data data,\n",
    "    Callable[Real, Real] hypothesis\n",
    ") ->\n",
    "Real:\n",
    "    quotient = 1/ 2*length(data)\n",
    "    \n",
    "    sum = sum([\n",
    "        (hypothesis(predictor) - observed) ^ 2\n",
    "        for predictor, observed\n",
    "        in data\n",
    "    ])\n",
    "    \n",
    "    return product(\n",
    "        quotient,\n",
    "        sum\n",
    "    )\n",
    "```\n",
    "    "
   ]
  },
  {
   "cell_type": "markdown",
   "metadata": {},
   "source": [
    "### Simple"
   ]
  },
  {
   "cell_type": "markdown",
   "metadata": {},
   "source": [
    "### Hypothesis Testing"
   ]
  },
  {
   "cell_type": "markdown",
   "metadata": {},
   "source": [
    "### Multiple"
   ]
  },
  {
   "cell_type": "markdown",
   "metadata": {},
   "source": [
    "### Model Selection"
   ]
  }
 ],
 "metadata": {
  "kernelspec": {
   "display_name": "Python 2",
   "language": "python",
   "name": "python2"
  },
  "language_info": {
   "codemirror_mode": {
    "name": "ipython",
    "version": 2
   },
   "file_extension": ".py",
   "mimetype": "text/x-python",
   "name": "python",
   "nbconvert_exporter": "python",
   "pygments_lexer": "ipython2",
   "version": "2.7.15"
  }
 },
 "nbformat": 4,
 "nbformat_minor": 2
}
