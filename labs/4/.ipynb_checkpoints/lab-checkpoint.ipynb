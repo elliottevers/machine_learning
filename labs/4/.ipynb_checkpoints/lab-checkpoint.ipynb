{
 "cells": [
  {
   "cell_type": "code",
   "execution_count": 17,
   "metadata": {},
   "outputs": [
    {
     "name": "stdout",
     "output_type": "stream",
     "text": [
      "Loading and Visualizing Data ...\n",
      "dir_material = /Users/elliottevers/Documents/git-repos.nosync/machine_learning/labs/4/machine-learning-ex3/ex3/\n"
     ]
    }
   ],
   "source": [
    "%% Machine Learning Online Class - Exercise 3 | Part 1: One-vs-all\n",
    "\n",
    "%  Instructions\n",
    "%  ------------\n",
    "%\n",
    "%  This file contains code that helps you get started on the\n",
    "%  linear exercise. You will need to complete the following functions\n",
    "%  in this exericse:\n",
    "%\n",
    "%     lrCostFunction.m (logistic regression cost function)\n",
    "%     oneVsAll.m\n",
    "%     predictOneVsAll.m\n",
    "%     predict.m\n",
    "%\n",
    "%  For this exercise, you will not need to change any code in this file,\n",
    "%  or any other files other than those mentioned above.\n",
    "%\n",
    "\n",
    "%% Initialization\n",
    "clear ; close all; clc\n",
    "\n",
    "%% Setup the parameters you will use for this part of the exercise\n",
    "input_layer_size  = 400;  % 20x20 Input Images of Digits\n",
    "num_labels = 10;          % 10 labels, from 1 to 10\n",
    "                          % (note that we have mapped \"0\" to label 10)\n",
    "\n",
    "%% =========== Part 1: Loading and Visualizing Data =============\n",
    "%  We start the exercise by first loading and visualizing the dataset.\n",
    "%  You will be working with a dataset that contains handwritten digits.\n",
    "%\n",
    "\n",
    "% Load Training Data\n",
    "fprintf('Loading and Visualizing Data ...\\n')\n",
    "dir_material = '/Users/elliottevers/Documents/git-repos.nosync/machine_learning/labs/4/machine-learning-ex3/ex3/'\n",
    "load(strcat(dir_material, 'ex3data1.mat')); % training data stored in arrays X, y\n",
    "m = size(X, 1);\n",
    "\n",
    "% Randomly select 100 data points to display\n",
    "rand_indices = randperm(m);\n",
    "sel = X(rand_indices(1:100), :);"
   ]
  },
  {
   "cell_type": "code",
   "execution_count": 18,
   "metadata": {},
   "outputs": [],
   "source": [
    "function [h, display_array] = displayData(X, example_width)\n",
    "%DISPLAYDATA Display 2D data in a nice grid\n",
    "%   [h, display_array] = DISPLAYDATA(X, example_width) displays 2D data\n",
    "%   stored in X in a nice grid. It returns the figure handle h and the \n",
    "%   displayed array if requested.\n",
    "\n",
    "% Set example_width automatically if not passed in\n",
    "if ~exist('example_width', 'var') || isempty(example_width) \n",
    "\texample_width = round(sqrt(size(X, 2)));\n",
    "end\n",
    "\n",
    "% Gray Image\n",
    "colormap(gray);\n",
    "\n",
    "% Compute rows, cols\n",
    "[m n] = size(X);\n",
    "example_height = (n / example_width);\n",
    "\n",
    "% Compute number of items to display\n",
    "display_rows = floor(sqrt(m));\n",
    "display_cols = ceil(m / display_rows);\n",
    "\n",
    "% Between images padding\n",
    "pad = 1;\n",
    "\n",
    "% Setup blank display\n",
    "display_array = - ones(pad + display_rows * (example_height + pad), ...\n",
    "                       pad + display_cols * (example_width + pad));\n",
    "\n",
    "% Copy each example into a patch on the display array\n",
    "curr_ex = 1;\n",
    "for j = 1:display_rows\n",
    "\tfor i = 1:display_cols\n",
    "\t\tif curr_ex > m, \n",
    "\t\t\tbreak; \n",
    "\t\tend\n",
    "\t\t% Copy the patch\n",
    "\t\t\n",
    "\t\t% Get the max value of the patch\n",
    "\t\tmax_val = max(abs(X(curr_ex, :)));\n",
    "\t\tdisplay_array(pad + (j - 1) * (example_height + pad) + (1:example_height), ...\n",
    "\t\t              pad + (i - 1) * (example_width + pad) + (1:example_width)) = ...\n",
    "\t\t\t\t\t\treshape(X(curr_ex, :), example_height, example_width) / max_val;\n",
    "\t\tcurr_ex = curr_ex + 1;\n",
    "\tend\n",
    "\tif curr_ex > m, \n",
    "\t\tbreak; \n",
    "\tend\n",
    "end\n",
    "\n",
    "% Display Image\n",
    "h = imagesc(display_array, [-1 1]);\n",
    "\n",
    "% Do not show axis\n",
    "axis image off\n",
    "\n",
    "drawnow;\n",
    "\n",
    "end\n"
   ]
  },
  {
   "cell_type": "code",
   "execution_count": 19,
   "metadata": {},
   "outputs": [
    {
     "data": {
      "image/png": "[encoded data removed]",
      "text/plain": [
       "<IPython.core.display.Image object>"
      ]
     },
     "metadata": {},
     "output_type": "display_data"
    }
   ],
   "source": [
    "displayData(sel);\n",
    "\n",
    "% fprintf('Program paused. Press enter to continue.\\n');\n",
    "% pause;"
   ]
  },
  {
   "cell_type": "code",
   "execution_count": 27,
   "metadata": {},
   "outputs": [],
   "source": [
    "function [J, grad] = lrCostFunction(theta, X, y, lambda)\n",
    "%LRCOSTFUNCTION Compute cost and gradient for logistic regression with \n",
    "%regularization\n",
    "%   J = LRCOSTFUNCTION(theta, X, y, lambda) computes the cost of using\n",
    "%   theta as the parameter for regularized logistic regression and the\n",
    "%   gradient of the cost w.r.t. to the parameters. \n",
    "\n",
    "% Initialize some useful values\n",
    "m = length(y); % number of training examples\n",
    "\n",
    "% You need to return the following variables correctly \n",
    "J = 0;\n",
    "grad = zeros(size(theta));\n",
    "\n",
    "% ====================== YOUR CODE HERE ======================\n",
    "% Instructions: Compute the cost of a particular choice of theta.\n",
    "%               You should set J to the cost.\n",
    "%               Compute the partial derivatives and set grad to the partial\n",
    "%               derivatives of the cost w.r.t. each parameter in theta\n",
    "%\n",
    "% Hint: The computation of the cost function and gradients can be\n",
    "%       efficiently vectorized. For example, consider the computation\n",
    "%\n",
    "%           sigmoid(X * theta)\n",
    "%\n",
    "%       Each row of the resulting matrix will contain the value of the\n",
    "%       prediction for that example. You can make use of this to vectorize\n",
    "%       the cost function and gradient computations. \n",
    "%\n",
    "% Hint: When computing the gradient of the regularized cost function, \n",
    "%       there're many possible vectorized solutions, but one solution\n",
    "%       looks like:\n",
    "%           grad = (unregularized gradient for logistic regression)\n",
    "%           temp = theta; \n",
    "%           temp(1) = 0;   % because we don't add anything for j = 0  \n",
    "%           grad = grad + YOUR_CODE_HERE (using the temp variable)\n",
    "%\n",
    "\n",
    "i_l_theta = 1:size(theta, 1);\n",
    "i_l_data = 1:size([X y], 1);\n",
    "predictors = X;\n",
    "response = y;\n",
    "\n",
    "%%% COST %%%\n",
    "\n",
    "sigmoid = @(real) 1 / (1 + e^(-1 * real));\n",
    "\n",
    "% h = @(i_a_data) sum(...\n",
    "%     arrayfun(...\n",
    "%         sigmoid,...\n",
    "%         X*theta...\n",
    "%     )...\n",
    "% );\n",
    "\n",
    "h = @(i_a_data) arrayfun(...\n",
    "    sigmoid,...\n",
    "    X*theta...\n",
    ")(i_a_data, :);\n",
    "\n",
    "right = @(i_a_data) (1 - response(i_a_data, :))*log(1 - h(i_a_data));\n",
    "\n",
    "left = @(i_a_data) -1*response(i_a_data, :)*log(h(i_a_data));\n",
    "\n",
    "term_cost = @(i_a_data) left(i_a_data) - right(i_a_data);\n",
    "\n",
    "sum_cost = sum(\n",
    "    arrayfun(\n",
    "        term_cost,\n",
    "        i_l_data\n",
    "    )\n",
    ");\n",
    "\n",
    "J = (1/m) * sum_cost;\n",
    "\n",
    "%%% GRADIENT %%%\n",
    "\n",
    "\n",
    "term_grad = @(i_a_theta, i_a_data)...\n",
    "    @(i_a_data)...\n",
    "        (h(i_a_data) - response(i_a_data)) * predictors(i_a_data, i_a_theta)...\n",
    ";\n",
    "\n",
    "sum_grad = @(i_a_theta)...\n",
    "    sum(...\n",
    "        arrayfun(...\n",
    "            term_grad(i_a_theta),...\n",
    "            i_l_data...\n",
    "        )...\n",
    "    )...\n",
    ";\n",
    "\n",
    "product = @(i_a_theta) (1/m) * sum_grad(i_a_theta);\n",
    "\n",
    "grad = arrayfun(\n",
    "    product,\n",
    "    i_l_theta\n",
    ");\n",
    "\n",
    "% =============================================================\n",
    "\n",
    "grad = grad(:);\n",
    "\n",
    "end"
   ]
  },
  {
   "cell_type": "code",
   "execution_count": 24,
   "metadata": {},
   "outputs": [
    {
     "name": "stdout",
     "output_type": "stream",
     "text": [
      "ans =  60\n",
      "stopped in lrCostFunction at line 60\n"
     ]
    },
    {
     "name": "stdin",
     "output_type": "stream",
     "text": [
      "debug>  h(1)\n"
     ]
    },
    {
     "name": "stdout",
     "output_type": "stream",
     "text": [
      "ans =  0.66819\n"
     ]
    },
    {
     "name": "stdin",
     "output_type": "stream",
     "text": [
      "debug>  h(4)\n"
     ]
    },
    {
     "name": "stdout",
     "output_type": "stream",
     "text": [
      "ans =  0.78583\n"
     ]
    },
    {
     "name": "stdin",
     "output_type": "stream",
     "text": [
      "debug>  h(5)\n"
     ]
    },
    {
     "name": "stdout",
     "output_type": "stream",
     "text": [
      "ans =  0.81757\n"
     ]
    },
    {
     "name": "stdin",
     "output_type": "stream",
     "text": [
      "debug>  h(6)\n"
     ]
    },
    {
     "name": "stdout",
     "output_type": "stream",
     "text": [
      "error: index (6,_): but object has size 5x1\n",
      "error: called from\n",
      "    lrCostFunction>@<anonymous> at line 55 column 17\n",
      "    lrCostFunction at line 60 column 7\n"
     ]
    },
    {
     "name": "stdin",
     "output_type": "stream",
     "text": [
      "debug>  size(X_t, 1)\n"
     ]
    },
    {
     "name": "stdout",
     "output_type": "stream",
     "text": [
      "error: 'X_t' undefined near line 1 column 6\n",
      "error: called from\n",
      "    lrCostFunction at line 60 column 7\n"
     ]
    },
    {
     "name": "stdin",
     "output_type": "stream",
     "text": [
      "debug>  size(X)\n"
     ]
    },
    {
     "name": "stdout",
     "output_type": "stream",
     "text": [
      "ans =\n",
      "\n",
      "   5   4\n",
      "\n"
     ]
    },
    {
     "name": "stdin",
     "output_type": "stream",
     "text": [
      "debug>  dbcont\n"
     ]
    }
   ],
   "source": [
    "dbstop in lrCostFunction 60\n",
    "theta_t = [-2; -1; 1; 2];\n",
    "X_t = [ones(5,1) reshape(1:15,5,3)/10];\n",
    "y_t = ([1;0;1;0;1] >= 0.5);\n",
    "lambda_t = 3;\n",
    "lrCostFunction(theta_t, X_t, y_t, lambda_t);"
   ]
  },
  {
   "cell_type": "code",
   "execution_count": 28,
   "metadata": {},
   "outputs": [
    {
     "name": "stdout",
     "output_type": "stream",
     "text": [
      "\n",
      "Testing lrCostFunction() with regularization\n",
      "\n",
      "Cost: 0.734819\n",
      "Expected cost: 2.534819\n",
      "Gradients:\n",
      " 0.146561 \n",
      " 0.051442 \n",
      " 0.124722 \n",
      " 0.198003 \n",
      "Expected gradients:\n",
      " 0.146561\n",
      " -0.548558\n",
      " 0.724722\n",
      " 1.398003\n",
      "Testing lrCostFunction() with regularization\n"
     ]
    }
   ],
   "source": [
    "%% ============ Part 2a: Vectorize Logistic Regression ============\n",
    "%  In this part of the exercise, you will reuse your logistic regression\n",
    "%  code from the last exercise. You task here is to make sure that your\n",
    "%  regularized logistic regression implementation is vectorized. After\n",
    "%  that, you will implement one-vs-all classification for the handwritten\n",
    "%  digit dataset.\n",
    "%\n",
    "\n",
    "% Test case for lrCostFunction\n",
    "fprintf('\\nTesting lrCostFunction() with regularization');\n",
    "\n",
    "theta_t = [-2; -1; 1; 2];\n",
    "X_t = [ones(5,1) reshape(1:15,5,3)/10];\n",
    "y_t = ([1;0;1;0;1] >= 0.5);\n",
    "lambda_t = 3;\n",
    "[J grad] = lrCostFunction(theta_t, X_t, y_t, lambda_t);\n",
    "\n",
    "fprintf('\\nCost: %f\\n', J);\n",
    "fprintf('Expected cost: 2.534819\\n');\n",
    "fprintf('Gradients:\\n');\n",
    "fprintf(' %f \\n', grad);\n",
    "fprintf('Expected gradients:\\n');\n",
    "fprintf(' 0.146561\\n -0.548558\\n 0.724722\\n 1.398003\\n');\n",
    "\n",
    "% fprintf('Program paused. Press enter to continue.\\n');\n",
    "% pause;"
   ]
  },
  {
   "cell_type": "code",
   "execution_count": 11,
   "metadata": {},
   "outputs": [
    {
     "name": "stdout",
     "output_type": "stream",
     "text": [
      "\n",
      "Testing lrCostFunction() with regularization\n",
      "error: arrayfun: all values must be scalars when UniformOutput = true\n",
      "error: called from\n",
      "    lrCostFunction at line 59 column 10\n",
      "\n",
      "Cost: 0.000000\n",
      "Expected cost: 2.534819\n",
      "Gradients:\n",
      "error: 'grad' undefined near line 1 column 19\n",
      "Expected gradients:\n",
      " 0.146561\n",
      " -0.548558\n",
      " 0.724722\n",
      " 1.398003\n",
      "Program paused. Press enter to continue.\n"
     ]
    },
    {
     "name": "stdin",
     "output_type": "stream",
     "text": [
      "Paused, enter any value to continue dbcont\n"
     ]
    },
    {
     "name": "stdout",
     "output_type": "stream",
     "text": [
      "error: dbcont: can only be called in debug mode\n",
      "error: called from\n",
      "    input at line 43 column 9\n",
      "    pause at line 23 column 9\n",
      "\n",
      "Training One-vs-All Logistic Regression...\n",
      "error: 'oneVsAll' undefined near line 1 column 14\n",
      "Testing lrCostFunction() with regularization\n"
     ]
    }
   ],
   "source": [
    "%% ============ Part 2b: One-vs-All Training ============\n",
    "fprintf('\\nTraining One-vs-All Logistic Regression...\\n')\n",
    "\n",
    "lambda = 0.1;\n",
    "[all_theta] = oneVsAll(X, y, num_labels, lambda);\n",
    "\n",
    "% fprintf('Program paused. Press enter to continue.\\n');\n",
    "% pause;"
   ]
  },
  {
   "cell_type": "code",
   "execution_count": null,
   "metadata": {},
   "outputs": [],
   "source": [
    "%% ================ Part 3: Predict for One-Vs-All ================\n",
    "\n",
    "pred = predictOneVsAll(all_theta, X);\n",
    "\n",
    "fprintf('\\nTraining Set Accuracy: %f\\n', mean(double(pred == y)) * 100);"
   ]
  }
 ],
 "metadata": {
  "kernelspec": {
   "display_name": "Octave",
   "language": "octave",
   "name": "octave"
  },
  "language_info": {
   "file_extension": ".m",
   "help_links": [
    {
     "text": "GNU Octave",
     "url": "https://www.gnu.org/software/octave/support.html"
    },
    {
     "text": "Octave Kernel",
     "url": "https://github.com/Calysto/octave_kernel"
    },
    {
     "text": "MetaKernel Magics",
     "url": "https://github.com/calysto/metakernel/blob/master/metakernel/magics/README.md"
    }
   ],
   "mimetype": "text/x-octave",
   "name": "octave",
   "version": "4.3.0+"
  }
 },
 "nbformat": 4,
 "nbformat_minor": 2
}
