{
 "cells": [
  {
   "cell_type": "code",
   "execution_count": 38,
   "metadata": {},
   "outputs": [],
   "source": [
    "%% Machine Learning Online Class\n",
    "%  Exercise 7 | Principle Component Analysis and K-Means Clustering\n",
    "%\n",
    "%  Instructions\n",
    "%  ------------\n",
    "%\n",
    "%  This file contains code that helps you get started on the\n",
    "%  exercise. You will need to complete the following functions:\n",
    "%\n",
    "%     pca.m\n",
    "%     projectData.m\n",
    "%     recoverData.m\n",
    "%     computeCentroids.m\n",
    "%     findClosestCentroids.m\n",
    "%     kMeansInitCentroids.m\n",
    "%\n",
    "%  For this exercise, you will not need to change any code in this file,\n",
    "%  or any other files other than those mentioned above.\n",
    "%\n",
    "\n",
    "%% Initialization\n",
    "clear ; close all; clc"
   ]
  },
  {
   "cell_type": "code",
   "execution_count": 39,
   "metadata": {},
   "outputs": [],
   "source": [
    "%plot gnuplot"
   ]
  },
  {
   "cell_type": "code",
   "execution_count": 40,
   "metadata": {},
   "outputs": [],
   "source": [
    "function idx = findClosestCentroids(X, centroids)\n",
    "%FINDCLOSESTCENTROIDS computes the centroid memberships for every example\n",
    "%   idx = FINDCLOSESTCENTROIDS (X, centroids) returns the closest centroids\n",
    "%   in idx for a dataset X where each row is a single example. idx = m x 1 \n",
    "%   vector of centroid assignments (i.e. each entry in range [1..K])\n",
    "%\n",
    "\n",
    "% Set K\n",
    "K = size(centroids, 1);\n",
    "\n",
    "% You need to return the following variables correctly.\n",
    "idx = zeros(size(X,1), 1);\n",
    "\n",
    "% ====================== YOUR CODE HERE ======================\n",
    "% Instructions: Go over every example, find its closest centroid, and store\n",
    "%               the index inside idx at the appropriate location.\n",
    "%               Concretely, idx(i) should contain the index of the centroid\n",
    "%               closest to example i. Hence, it should be a value in the \n",
    "%               range 1..K\n",
    "%\n",
    "% Note: You can use a for-loop over the examples to compute this.\n",
    "%\n",
    "\n",
    "\n",
    "for i = 1:size(X, 1)\n",
    "    min_distance = Inf;\n",
    "    min_index = Inf;\n",
    "    for j = 1:K\n",
    "        dist = norm(X(i, :) - centroids(j, :));\n",
    "        if dist < min_distance\n",
    "            min_distance = dist;\n",
    "            min_index = j;\n",
    "        end\n",
    "    end\n",
    "    idx(i) = min_index;\n",
    "end\n",
    "\n",
    "% =============================================================\n",
    "\n",
    "end"
   ]
  },
  {
   "cell_type": "code",
   "execution_count": 47,
   "metadata": {},
   "outputs": [
    {
     "name": "stdout",
     "output_type": "stream",
     "text": [
      "Finding closest centroids.\n",
      "\n",
      "warning: load: '/Users/elliottevers/Documents/git-repos.nosync/machine_learning/labs/8/machine-learning-ex7/ex7/ex7data2.mat' found by searching load path\n",
      "Closest centroids for the first 3 examples: \n",
      " 1 3 2\n",
      "\n",
      "(the closest centroids should be 1, 3, 2 respectively)\n",
      " 1 3 2\n"
     ]
    }
   ],
   "source": [
    "%% ================= Part 1: Find Closest Centroids ====================\n",
    "%  To help you implement K-Means, we have divided the learning algorithm \n",
    "%  into two functions -- findClosestCentroids and computeCentroids. In this\n",
    "%  part, you should complete the code in the findClosestCentroids function. \n",
    "%\n",
    "fprintf('Finding closest centroids.\\n\\n');\n",
    "\n",
    "dir_materials = '/Users/elliottevers/Documents/git-repos.nosync/machine_learning/labs/8/machine-learning-ex7/ex7/';\n",
    "addpath(dir_materials);\n",
    "% Load an example dataset that we will be using\n",
    "load('ex7data2.mat');\n",
    "\n",
    "% Select an initial set of centroids\n",
    "K = 3; % 3 Centroids\n",
    "initial_centroids = [3 3; 6 2; 8 5];\n",
    "\n",
    "% Find the closest centroids for the examples using the\n",
    "% initial_centroids\n",
    "% dbstop in findClosestCentroids 37\n",
    "idx = findClosestCentroids(X, initial_centroids);\n",
    "\n",
    "fprintf('Closest centroids for the first 3 examples: \\n')\n",
    "fprintf(' %d', idx(1:3));\n",
    "fprintf('\\n(the closest centroids should be 1, 3, 2 respectively)\\n');\n",
    "\n",
    "% fprintf('Program paused. Press enter to continue.\\n');\n",
    "% pause;"
   ]
  },
  {
   "cell_type": "code",
   "execution_count": 42,
   "metadata": {},
   "outputs": [],
   "source": [
    "function centroids = computeCentroids(X, idx, K)\n",
    "%COMPUTECENTROIDS returns the new centroids by computing the means of the \n",
    "%data points assigned to each centroid.\n",
    "%   centroids = COMPUTECENTROIDS(X, idx, K) returns the new centroids by \n",
    "%   computing the means of the data points assigned to each centroid. It is\n",
    "%   given a dataset X where each row is a single data point, a vector\n",
    "%   idx of centroid assignments (i.e. each entry in range [1..K]) for each\n",
    "%   example, and K, the number of centroids. You should return a matrix\n",
    "%   centroids, where each row of centroids is the mean of the data points\n",
    "%   assigned to it.\n",
    "%\n",
    "\n",
    "% Useful variables\n",
    "[m n] = size(X);\n",
    "\n",
    "% You need to return the following variables correctly.\n",
    "centroids = zeros(K, n);\n",
    "\n",
    "\n",
    "% ====================== YOUR CODE HERE ======================\n",
    "% Instructions: Go over every centroid and compute mean of all points that\n",
    "%               belong to it. Concretely, the row vector centroids(i, :)\n",
    "%               should contain the mean of the data points assigned to\n",
    "%               centroid i.\n",
    "%\n",
    "% Note: You can use a for-loop over the centroids to compute this.\n",
    "%\n",
    "\n",
    "\n",
    "for k=1:K\n",
    "   centroids(k, :) = mean(\n",
    "       X(idx==k, :)\n",
    "   );\n",
    "end\n",
    "\n",
    "\n",
    "\n",
    "% =============================================================\n",
    "\n",
    "\n",
    "end"
   ]
  },
  {
   "cell_type": "code",
   "execution_count": 43,
   "metadata": {},
   "outputs": [
    {
     "name": "stdout",
     "output_type": "stream",
     "text": [
      "\n",
      "Computing centroids means.\n",
      "\n",
      "Centroids computed after initial finding of closest centroids: \n",
      " 2.428301 3.157924 \n",
      " 5.813503 2.633656 \n",
      " 7.119387 3.616684 \n",
      "\n",
      "(the centroids should be\n",
      "   [ 2.428301 3.157924 ]\n",
      "   [ 5.813503 2.633656 ]\n",
      "   [ 7.119387 3.616684 ]\n",
      "\n"
     ]
    }
   ],
   "source": [
    "%% ===================== Part 2: Compute Means =========================\n",
    "%  After implementing the closest centroids function, you should now\n",
    "%  complete the computeCentroids function.\n",
    "%\n",
    "fprintf('\\nComputing centroids means.\\n\\n');\n",
    "\n",
    "%  Compute means based on the closest centroids found in the previous part.\n",
    "centroids = computeCentroids(X, idx, K);\n",
    "\n",
    "fprintf('Centroids computed after initial finding of closest centroids: \\n')\n",
    "fprintf(' %f %f \\n' , centroids');\n",
    "fprintf('\\n(the centroids should be\\n');\n",
    "fprintf('   [ 2.428301 3.157924 ]\\n');\n",
    "fprintf('   [ 5.813503 2.633656 ]\\n');\n",
    "fprintf('   [ 7.119387 3.616684 ]\\n\\n');\n",
    "\n",
    "% fprintf('Program paused. Press enter to continue.\\n');\n",
    "% pause;"
   ]
  },
  {
   "cell_type": "code",
   "execution_count": 44,
   "metadata": {},
   "outputs": [
    {
     "name": "stdout",
     "output_type": "stream",
     "text": [
      "\n",
      "Running K-Means clustering on example dataset.\n",
      "\n",
      "warning: load: '/Users/elliottevers/Documents/git-repos.nosync/machine_learning/labs/8/machine-learning-ex7/ex7/ex7data2.mat' found by searching load path\n",
      "K-Means iteration 1/10...\n",
      "Press enter to continue.\n"
     ]
    },
    {
     "name": "stdin",
     "output_type": "stream",
     "text": [
      "Paused, enter any value to continue p\n"
     ]
    },
    {
     "name": "stdout",
     "output_type": "stream",
     "text": [
      "error: 'p' undefined near line 1 column 1\n",
      "error: called from\n",
      "    input at line 43 column 9\n",
      "    pause at line 23 column 9\n",
      "    runkMeans at line 51 column 9\n",
      "\n",
      "K-Means Done.\n",
      "\n"
     ]
    }
   ],
   "source": [
    "%% =================== Part 3: K-Means Clustering ======================\n",
    "%  After you have completed the two functions computeCentroids and\n",
    "%  findClosestCentroids, you have all the necessary pieces to run the\n",
    "%  kMeans algorithm. In this part, you will run the K-Means algorithm on\n",
    "%  the example dataset we have provided. \n",
    "%\n",
    "fprintf('\\nRunning K-Means clustering on example dataset.\\n\\n');\n",
    "\n",
    "% Load an example dataset\n",
    "load('ex7data2.mat');\n",
    "\n",
    "% Settings for running K-Means\n",
    "K = 3;\n",
    "max_iters = 10;\n",
    "\n",
    "% For consistency, here we set centroids to specific values\n",
    "% but in practice you want to generate them automatically, such as by\n",
    "% settings them to be random examples (as can be seen in\n",
    "% kMeansInitCentroids).\n",
    "initial_centroids = [3 3; 6 2; 8 5];\n",
    "\n",
    "% Run K-Means algorithm. The 'true' at the end tells our function to plot\n",
    "% the progress of K-Means\n",
    "[centroids, idx] = runkMeans(X, initial_centroids, max_iters, true);\n",
    "fprintf('\\nK-Means Done.\\n\\n');\n",
    "\n",
    "% fprintf('Program paused. Press enter to continue.\\n');\n",
    "% pause;"
   ]
  },
  {
   "cell_type": "code",
   "execution_count": 54,
   "metadata": {},
   "outputs": [],
   "source": [
    "function centroids = kMeansInitCentroids(X, K)\n",
    "%KMEANSINITCENTROIDS This function initializes K centroids that are to be \n",
    "%used in K-Means on the dataset X\n",
    "%   centroids = KMEANSINITCENTROIDS(X, K) returns K initial centroids to be\n",
    "%   used with the K-Means on the dataset X\n",
    "%\n",
    "\n",
    "% You should return this values correctly\n",
    "centroids = zeros(K, size(X, 2));\n",
    "\n",
    "% ====================== YOUR CODE HERE ======================\n",
    "% Instructions: You should set centroids to randomly chosen examples from\n",
    "%               the dataset X\n",
    "%\n",
    "\n",
    "\n",
    "\n",
    "% Initialize the centroids to be random examples\n",
    "% Randomly reorder the indices of examples\n",
    "randidx = randperm(size(X, 1));\n",
    "% Take the first K examples as centroids\n",
    "centroids = X(randidx(1:K), :);\n",
    "\n",
    "\n",
    "\n",
    "% =============================================================\n",
    "\n",
    "end"
   ]
  },
  {
   "cell_type": "code",
   "execution_count": 55,
   "metadata": {},
   "outputs": [],
   "source": [
    "%% ============= Part 4: K-Means Clustering on Pixels ===============\n",
    "%  In this exercise, you will use K-Means to compress an image. To do this,\n",
    "%  you will first run K-Means on the colors of the pixels in the image and\n",
    "%  then you will map each pixel onto its closest centroid.\n",
    "%  \n",
    "%  You should now complete the code in kMeansInitCentroids.m\n",
    "%\n",
    "\n",
    "fprintf('\\nRunning K-Means clustering on pixels from an image.\\n\\n');\n",
    "\n",
    "%  Load an image of a bird\n",
    "% A = double(imread('bird_small.png'));\n",
    "A = double(imread(strcat(dir_materials, 'bird_small.png')));"
   ]
  },
  {
   "cell_type": "code",
   "execution_count": 60,
   "metadata": {},
   "outputs": [
    {
     "name": "stdout",
     "output_type": "stream",
     "text": [
      "ans =\n",
      "\n",
      "   0.85882   0.70588   0.40392\n",
      "\n"
     ]
    }
   ],
   "source": [
    "X(1, :)"
   ]
  },
  {
   "cell_type": "code",
   "execution_count": 55,
   "metadata": {},
   "outputs": [
    {
     "name": "stdout",
     "output_type": "stream",
     "text": [
      "\n",
      "Running K-Means clustering on pixels from an image.\n",
      "\n",
      "K-Means iteration 1/10...\n",
      "K-Means iteration 2/10...\n",
      "K-Means iteration 3/10...\n",
      "K-Means iteration 4/10...\n",
      "K-Means iteration 5/10...\n",
      "K-Means iteration 6/10...\n",
      "K-Means iteration 7/10...\n",
      "K-Means iteration 8/10...\n",
      "K-Means iteration 9/10...\n",
      "K-Means iteration 10/10...\n"
     ]
    }
   ],
   "source": [
    "% If imread does not work for you, you can try instead\n",
    "%   load ('bird_small.mat');\n",
    "\n",
    "A = A / 255; % Divide by 255 so that all values are in the range 0 - 1\n",
    "\n",
    "% Size of the image\n",
    "img_size = size(A);\n",
    "\n",
    "% Reshape the image into an Nx3 matrix where N = number of pixels.\n",
    "% Each row will contain the Red, Green and Blue pixel values\n",
    "% This gives us our dataset matrix X that we will use K-Means on.\n",
    "X = reshape(A, img_size(1) * img_size(2), 3);\n",
    "\n",
    "% Run your K-Means algorithm on this data\n",
    "% You should try different values of K and max_iters here\n",
    "K = 16; \n",
    "max_iters = 10;\n",
    "\n",
    "% When using K-Means, it is important the initialize the centroids\n",
    "% randomly. \n",
    "% You should complete the code in kMeansInitCentroids.m before proceeding\n",
    "initial_centroids = kMeansInitCentroids(X, K);\n",
    "\n",
    "% Run K-Means\n",
    "[centroids, idx] = runkMeans(X, initial_centroids, max_iters);\n",
    "\n",
    "% fprintf('Program paused. Press enter to continue.\\n');\n",
    "% pause;"
   ]
  },
  {
   "cell_type": "code",
   "execution_count": 56,
   "metadata": {},
   "outputs": [
    {
     "name": "stdout",
     "output_type": "stream",
     "text": [
      "\n",
      "Applying K-Means to compress an image.\n",
      "\n"
     ]
    }
   ],
   "source": [
    "%% ================= Part 5: Image Compression ======================\n",
    "%  In this part of the exercise, you will use the clusters of K-Means to\n",
    "%  compress an image. To do this, we first find the closest clusters for\n",
    "%  each example. After that, we \n",
    "\n",
    "fprintf('\\nApplying K-Means to compress an image.\\n\\n');\n",
    "\n",
    "% Find closest cluster members\n",
    "idx = findClosestCentroids(X, centroids);\n",
    "\n",
    "% Essentially, now we have represented the image X as in terms of the\n",
    "% indices in idx. \n",
    "\n",
    "% We can now recover the image from the indices (idx) by mapping each pixel\n",
    "% (specified by its index in idx) to the centroid value\n",
    "X_recovered = centroids(idx,:);\n",
    "\n",
    "% Reshape the recovered image into proper dimensions\n",
    "X_recovered = reshape(X_recovered, img_size(1), img_size(2), 3);\n",
    "\n",
    "% Display the original image \n",
    "subplot(1, 2, 1);\n",
    "imagesc(A); \n",
    "title('Original');\n",
    "\n",
    "% Display compressed image side by side\n",
    "subplot(1, 2, 2);\n",
    "imagesc(X_recovered)\n",
    "title(sprintf('Compressed, with %d colors.', K));\n",
    "\n",
    "\n",
    "% fprintf('Program paused. Press enter to continue.\\n');\n",
    "% pause;"
   ]
  }
 ],
 "metadata": {
  "kernelspec": {
   "display_name": "Octave",
   "language": "octave",
   "name": "octave"
  },
  "language_info": {
   "file_extension": ".m",
   "help_links": [
    {
     "text": "GNU Octave",
     "url": "https://www.gnu.org/software/octave/support.html"
    },
    {
     "text": "Octave Kernel",
     "url": "https://github.com/Calysto/octave_kernel"
    },
    {
     "text": "MetaKernel Magics",
     "url": "https://github.com/calysto/metakernel/blob/master/metakernel/magics/README.md"
    }
   ],
   "mimetype": "text/x-octave",
   "name": "octave",
   "version": "4.3.0+"
  }
 },
 "nbformat": 4,
 "nbformat_minor": 2
}
